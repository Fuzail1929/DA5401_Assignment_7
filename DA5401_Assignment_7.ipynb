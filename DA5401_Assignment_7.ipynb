{
  "nbformat": 4,
  "nbformat_minor": 0,
  "metadata": {
    "colab": {
      "provenance": []
    },
    "kernelspec": {
      "name": "python3",
      "display_name": "Python 3"
    },
    "language_info": {
      "name": "python"
    }
  },
  "cells": [
    {
      "cell_type": "markdown",
      "source": [
        "## **Assignment 7 : Multi-Class Model Selection using ROC and PRC**"
      ],
      "metadata": {
        "id": "Qkow9KnEkoFP"
      }
    },
    {
      "cell_type": "markdown",
      "source": [
        "## **Introduction :**\n",
        "This assignment focuses on multi-class model selection using the Landsat Satellite dataset, where various classifiers are compared through ROC and Precision–Recall curve analysis. The goal is to evaluate each model’s ability to distinguish land cover types and recommend the best-performing classifier based on its overall accuracy, AUC, and average precision across classes.\n",
        "\n",
        "---"
      ],
      "metadata": {
        "id": "AsuASagjpJHK"
      }
    },
    {
      "cell_type": "markdown",
      "source": [
        "**Importing Libraries**"
      ],
      "metadata": {
        "id": "T_43V6r3pfeA"
      }
    },
    {
      "cell_type": "code",
      "execution_count": null,
      "metadata": {
        "id": "_eLgPn4Cnwhk"
      },
      "outputs": [],
      "source": [
        "import os\n",
        "import numpy as np\n",
        "import pandas as pd\n",
        "import matplotlib.pyplot as plt\n",
        "from itertools import cycle\n",
        "from sklearn.model_selection import train_test_split\n",
        "from sklearn.preprocessing import StandardScaler, label_binarize\n",
        "from sklearn.metrics import accuracy_score, f1_score, roc_curve, auc, precision_recall_curve, average_precision_score\n",
        "from sklearn.metrics import precision_recall_curve\n",
        "from sklearn.neighbors import KNeighborsClassifier\n",
        "from sklearn.tree import DecisionTreeClassifier\n",
        "from sklearn.dummy import DummyClassifier\n",
        "from sklearn.linear_model import LogisticRegression\n",
        "from sklearn.naive_bayes import GaussianNB\n",
        "from sklearn.svm import SVC\n",
        "from sklearn.ensemble import RandomForestClassifier\n",
        "from sklearn.preprocessing import LabelEncoder\n",
        "import warnings\n",
        "warnings.filterwarnings(\"ignore\")\n",
        "import xgboost as xgb\n",
        "from sklearn.metrics import auc as sk_auc\n",
        "\n",
        "\n",
        "RANDOM_STATE = 42\n",
        "np.random.seed(RANDOM_STATE)\n",
        "\n",
        "plt.rcParams['figure.figsize'] = (10, 7)\n",
        "plt.rcParams['axes.grid'] = True"
      ]
    },
    {
      "cell_type": "markdown",
      "source": [
        "**Load and prepare data (UCI Landsat Satellite Dataset)**"
      ],
      "metadata": {
        "id": "qY4EL7yPk7ih"
      }
    },
    {
      "cell_type": "code",
      "source": [
        "from google.colab import drive\n",
        "drive.mount('/content/drive')\n"
      ],
      "metadata": {
        "colab": {
          "base_uri": "https://localhost:8080/"
        },
        "id": "XZX9sEiGqaCT",
        "outputId": "3f529ec2-0a48-4b4a-cf3a-55e3d535949c"
      },
      "execution_count": null,
      "outputs": [
        {
          "output_type": "stream",
          "name": "stdout",
          "text": [
            "Mounted at /content/drive\n"
          ]
        }
      ]
    },
    {
      "cell_type": "code",
      "source": [
        "df = pd.read_csv(\"/content/drive/MyDrive/ColabData/sat.trn\", header=None, sep=r\"\\s+\", engine='python')\n",
        "df.head()"
      ],
      "metadata": {
        "id": "1f38SjOpqoxi",
        "colab": {
          "base_uri": "https://localhost:8080/",
          "height": 229
        },
        "outputId": "e45241a6-5d65-41c7-cebe-9dd3238a9d73"
      },
      "execution_count": null,
      "outputs": [
        {
          "output_type": "execute_result",
          "data": {
            "text/plain": [
              "   0    1    2   3   4    5    6   7   8    9   ...   27  28   29   30   31  \\\n",
              "0  92  115  120  94  84  102  106  79  84  102  ...  104  88  121  128  100   \n",
              "1  84  102  106  79  84  102  102  83  80  102  ...  100  84  107  113   87   \n",
              "2  84  102  102  83  80  102  102  79  84   94  ...   87  84   99  104   79   \n",
              "3  80  102  102  79  84   94  102  79  80   94  ...   79  84   99  104   79   \n",
              "4  84   94  102  79  80   94   98  76  80  102  ...   79  84  103  104   79   \n",
              "\n",
              "   32   33   34  35  36  \n",
              "0  84  107  113  87   3  \n",
              "1  84   99  104  79   3  \n",
              "2  84   99  104  79   3  \n",
              "3  84  103  104  79   3  \n",
              "4  79  107  109  87   3  \n",
              "\n",
              "[5 rows x 37 columns]"
            ],
            "text/html": [
              "\n",
              "  <div id=\"df-79486ad0-9feb-4de3-b744-460c74c7a441\" class=\"colab-df-container\">\n",
              "    <div>\n",
              "<style scoped>\n",
              "    .dataframe tbody tr th:only-of-type {\n",
              "        vertical-align: middle;\n",
              "    }\n",
              "\n",
              "    .dataframe tbody tr th {\n",
              "        vertical-align: top;\n",
              "    }\n",
              "\n",
              "    .dataframe thead th {\n",
              "        text-align: right;\n",
              "    }\n",
              "</style>\n",
              "<table border=\"1\" class=\"dataframe\">\n",
              "  <thead>\n",
              "    <tr style=\"text-align: right;\">\n",
              "      <th></th>\n",
              "      <th>0</th>\n",
              "      <th>1</th>\n",
              "      <th>2</th>\n",
              "      <th>3</th>\n",
              "      <th>4</th>\n",
              "      <th>5</th>\n",
              "      <th>6</th>\n",
              "      <th>7</th>\n",
              "      <th>8</th>\n",
              "      <th>9</th>\n",
              "      <th>...</th>\n",
              "      <th>27</th>\n",
              "      <th>28</th>\n",
              "      <th>29</th>\n",
              "      <th>30</th>\n",
              "      <th>31</th>\n",
              "      <th>32</th>\n",
              "      <th>33</th>\n",
              "      <th>34</th>\n",
              "      <th>35</th>\n",
              "      <th>36</th>\n",
              "    </tr>\n",
              "  </thead>\n",
              "  <tbody>\n",
              "    <tr>\n",
              "      <th>0</th>\n",
              "      <td>92</td>\n",
              "      <td>115</td>\n",
              "      <td>120</td>\n",
              "      <td>94</td>\n",
              "      <td>84</td>\n",
              "      <td>102</td>\n",
              "      <td>106</td>\n",
              "      <td>79</td>\n",
              "      <td>84</td>\n",
              "      <td>102</td>\n",
              "      <td>...</td>\n",
              "      <td>104</td>\n",
              "      <td>88</td>\n",
              "      <td>121</td>\n",
              "      <td>128</td>\n",
              "      <td>100</td>\n",
              "      <td>84</td>\n",
              "      <td>107</td>\n",
              "      <td>113</td>\n",
              "      <td>87</td>\n",
              "      <td>3</td>\n",
              "    </tr>\n",
              "    <tr>\n",
              "      <th>1</th>\n",
              "      <td>84</td>\n",
              "      <td>102</td>\n",
              "      <td>106</td>\n",
              "      <td>79</td>\n",
              "      <td>84</td>\n",
              "      <td>102</td>\n",
              "      <td>102</td>\n",
              "      <td>83</td>\n",
              "      <td>80</td>\n",
              "      <td>102</td>\n",
              "      <td>...</td>\n",
              "      <td>100</td>\n",
              "      <td>84</td>\n",
              "      <td>107</td>\n",
              "      <td>113</td>\n",
              "      <td>87</td>\n",
              "      <td>84</td>\n",
              "      <td>99</td>\n",
              "      <td>104</td>\n",
              "      <td>79</td>\n",
              "      <td>3</td>\n",
              "    </tr>\n",
              "    <tr>\n",
              "      <th>2</th>\n",
              "      <td>84</td>\n",
              "      <td>102</td>\n",
              "      <td>102</td>\n",
              "      <td>83</td>\n",
              "      <td>80</td>\n",
              "      <td>102</td>\n",
              "      <td>102</td>\n",
              "      <td>79</td>\n",
              "      <td>84</td>\n",
              "      <td>94</td>\n",
              "      <td>...</td>\n",
              "      <td>87</td>\n",
              "      <td>84</td>\n",
              "      <td>99</td>\n",
              "      <td>104</td>\n",
              "      <td>79</td>\n",
              "      <td>84</td>\n",
              "      <td>99</td>\n",
              "      <td>104</td>\n",
              "      <td>79</td>\n",
              "      <td>3</td>\n",
              "    </tr>\n",
              "    <tr>\n",
              "      <th>3</th>\n",
              "      <td>80</td>\n",
              "      <td>102</td>\n",
              "      <td>102</td>\n",
              "      <td>79</td>\n",
              "      <td>84</td>\n",
              "      <td>94</td>\n",
              "      <td>102</td>\n",
              "      <td>79</td>\n",
              "      <td>80</td>\n",
              "      <td>94</td>\n",
              "      <td>...</td>\n",
              "      <td>79</td>\n",
              "      <td>84</td>\n",
              "      <td>99</td>\n",
              "      <td>104</td>\n",
              "      <td>79</td>\n",
              "      <td>84</td>\n",
              "      <td>103</td>\n",
              "      <td>104</td>\n",
              "      <td>79</td>\n",
              "      <td>3</td>\n",
              "    </tr>\n",
              "    <tr>\n",
              "      <th>4</th>\n",
              "      <td>84</td>\n",
              "      <td>94</td>\n",
              "      <td>102</td>\n",
              "      <td>79</td>\n",
              "      <td>80</td>\n",
              "      <td>94</td>\n",
              "      <td>98</td>\n",
              "      <td>76</td>\n",
              "      <td>80</td>\n",
              "      <td>102</td>\n",
              "      <td>...</td>\n",
              "      <td>79</td>\n",
              "      <td>84</td>\n",
              "      <td>103</td>\n",
              "      <td>104</td>\n",
              "      <td>79</td>\n",
              "      <td>79</td>\n",
              "      <td>107</td>\n",
              "      <td>109</td>\n",
              "      <td>87</td>\n",
              "      <td>3</td>\n",
              "    </tr>\n",
              "  </tbody>\n",
              "</table>\n",
              "<p>5 rows × 37 columns</p>\n",
              "</div>\n",
              "    <div class=\"colab-df-buttons\">\n",
              "\n",
              "  <div class=\"colab-df-container\">\n",
              "    <button class=\"colab-df-convert\" onclick=\"convertToInteractive('df-79486ad0-9feb-4de3-b744-460c74c7a441')\"\n",
              "            title=\"Convert this dataframe to an interactive table.\"\n",
              "            style=\"display:none;\">\n",
              "\n",
              "  <svg xmlns=\"http://www.w3.org/2000/svg\" height=\"24px\" viewBox=\"0 -960 960 960\">\n",
              "    <path d=\"M120-120v-720h720v720H120Zm60-500h600v-160H180v160Zm220 220h160v-160H400v160Zm0 220h160v-160H400v160ZM180-400h160v-160H180v160Zm440 0h160v-160H620v160ZM180-180h160v-160H180v160Zm440 0h160v-160H620v160Z\"/>\n",
              "  </svg>\n",
              "    </button>\n",
              "\n",
              "  <style>\n",
              "    .colab-df-container {\n",
              "      display:flex;\n",
              "      gap: 12px;\n",
              "    }\n",
              "\n",
              "    .colab-df-convert {\n",
              "      background-color: #E8F0FE;\n",
              "      border: none;\n",
              "      border-radius: 50%;\n",
              "      cursor: pointer;\n",
              "      display: none;\n",
              "      fill: #1967D2;\n",
              "      height: 32px;\n",
              "      padding: 0 0 0 0;\n",
              "      width: 32px;\n",
              "    }\n",
              "\n",
              "    .colab-df-convert:hover {\n",
              "      background-color: #E2EBFA;\n",
              "      box-shadow: 0px 1px 2px rgba(60, 64, 67, 0.3), 0px 1px 3px 1px rgba(60, 64, 67, 0.15);\n",
              "      fill: #174EA6;\n",
              "    }\n",
              "\n",
              "    .colab-df-buttons div {\n",
              "      margin-bottom: 4px;\n",
              "    }\n",
              "\n",
              "    [theme=dark] .colab-df-convert {\n",
              "      background-color: #3B4455;\n",
              "      fill: #D2E3FC;\n",
              "    }\n",
              "\n",
              "    [theme=dark] .colab-df-convert:hover {\n",
              "      background-color: #434B5C;\n",
              "      box-shadow: 0px 1px 3px 1px rgba(0, 0, 0, 0.15);\n",
              "      filter: drop-shadow(0px 1px 2px rgba(0, 0, 0, 0.3));\n",
              "      fill: #FFFFFF;\n",
              "    }\n",
              "  </style>\n",
              "\n",
              "    <script>\n",
              "      const buttonEl =\n",
              "        document.querySelector('#df-79486ad0-9feb-4de3-b744-460c74c7a441 button.colab-df-convert');\n",
              "      buttonEl.style.display =\n",
              "        google.colab.kernel.accessAllowed ? 'block' : 'none';\n",
              "\n",
              "      async function convertToInteractive(key) {\n",
              "        const element = document.querySelector('#df-79486ad0-9feb-4de3-b744-460c74c7a441');\n",
              "        const dataTable =\n",
              "          await google.colab.kernel.invokeFunction('convertToInteractive',\n",
              "                                                    [key], {});\n",
              "        if (!dataTable) return;\n",
              "\n",
              "        const docLinkHtml = 'Like what you see? Visit the ' +\n",
              "          '<a target=\"_blank\" href=https://colab.research.google.com/notebooks/data_table.ipynb>data table notebook</a>'\n",
              "          + ' to learn more about interactive tables.';\n",
              "        element.innerHTML = '';\n",
              "        dataTable['output_type'] = 'display_data';\n",
              "        await google.colab.output.renderOutput(dataTable, element);\n",
              "        const docLink = document.createElement('div');\n",
              "        docLink.innerHTML = docLinkHtml;\n",
              "        element.appendChild(docLink);\n",
              "      }\n",
              "    </script>\n",
              "  </div>\n",
              "\n",
              "\n",
              "    <div id=\"df-2f8eef95-0d6f-4fec-a2df-5d88ead56ce5\">\n",
              "      <button class=\"colab-df-quickchart\" onclick=\"quickchart('df-2f8eef95-0d6f-4fec-a2df-5d88ead56ce5')\"\n",
              "                title=\"Suggest charts\"\n",
              "                style=\"display:none;\">\n",
              "\n",
              "<svg xmlns=\"http://www.w3.org/2000/svg\" height=\"24px\"viewBox=\"0 0 24 24\"\n",
              "     width=\"24px\">\n",
              "    <g>\n",
              "        <path d=\"M19 3H5c-1.1 0-2 .9-2 2v14c0 1.1.9 2 2 2h14c1.1 0 2-.9 2-2V5c0-1.1-.9-2-2-2zM9 17H7v-7h2v7zm4 0h-2V7h2v10zm4 0h-2v-4h2v4z\"/>\n",
              "    </g>\n",
              "</svg>\n",
              "      </button>\n",
              "\n",
              "<style>\n",
              "  .colab-df-quickchart {\n",
              "      --bg-color: #E8F0FE;\n",
              "      --fill-color: #1967D2;\n",
              "      --hover-bg-color: #E2EBFA;\n",
              "      --hover-fill-color: #174EA6;\n",
              "      --disabled-fill-color: #AAA;\n",
              "      --disabled-bg-color: #DDD;\n",
              "  }\n",
              "\n",
              "  [theme=dark] .colab-df-quickchart {\n",
              "      --bg-color: #3B4455;\n",
              "      --fill-color: #D2E3FC;\n",
              "      --hover-bg-color: #434B5C;\n",
              "      --hover-fill-color: #FFFFFF;\n",
              "      --disabled-bg-color: #3B4455;\n",
              "      --disabled-fill-color: #666;\n",
              "  }\n",
              "\n",
              "  .colab-df-quickchart {\n",
              "    background-color: var(--bg-color);\n",
              "    border: none;\n",
              "    border-radius: 50%;\n",
              "    cursor: pointer;\n",
              "    display: none;\n",
              "    fill: var(--fill-color);\n",
              "    height: 32px;\n",
              "    padding: 0;\n",
              "    width: 32px;\n",
              "  }\n",
              "\n",
              "  .colab-df-quickchart:hover {\n",
              "    background-color: var(--hover-bg-color);\n",
              "    box-shadow: 0 1px 2px rgba(60, 64, 67, 0.3), 0 1px 3px 1px rgba(60, 64, 67, 0.15);\n",
              "    fill: var(--button-hover-fill-color);\n",
              "  }\n",
              "\n",
              "  .colab-df-quickchart-complete:disabled,\n",
              "  .colab-df-quickchart-complete:disabled:hover {\n",
              "    background-color: var(--disabled-bg-color);\n",
              "    fill: var(--disabled-fill-color);\n",
              "    box-shadow: none;\n",
              "  }\n",
              "\n",
              "  .colab-df-spinner {\n",
              "    border: 2px solid var(--fill-color);\n",
              "    border-color: transparent;\n",
              "    border-bottom-color: var(--fill-color);\n",
              "    animation:\n",
              "      spin 1s steps(1) infinite;\n",
              "  }\n",
              "\n",
              "  @keyframes spin {\n",
              "    0% {\n",
              "      border-color: transparent;\n",
              "      border-bottom-color: var(--fill-color);\n",
              "      border-left-color: var(--fill-color);\n",
              "    }\n",
              "    20% {\n",
              "      border-color: transparent;\n",
              "      border-left-color: var(--fill-color);\n",
              "      border-top-color: var(--fill-color);\n",
              "    }\n",
              "    30% {\n",
              "      border-color: transparent;\n",
              "      border-left-color: var(--fill-color);\n",
              "      border-top-color: var(--fill-color);\n",
              "      border-right-color: var(--fill-color);\n",
              "    }\n",
              "    40% {\n",
              "      border-color: transparent;\n",
              "      border-right-color: var(--fill-color);\n",
              "      border-top-color: var(--fill-color);\n",
              "    }\n",
              "    60% {\n",
              "      border-color: transparent;\n",
              "      border-right-color: var(--fill-color);\n",
              "    }\n",
              "    80% {\n",
              "      border-color: transparent;\n",
              "      border-right-color: var(--fill-color);\n",
              "      border-bottom-color: var(--fill-color);\n",
              "    }\n",
              "    90% {\n",
              "      border-color: transparent;\n",
              "      border-bottom-color: var(--fill-color);\n",
              "    }\n",
              "  }\n",
              "</style>\n",
              "\n",
              "      <script>\n",
              "        async function quickchart(key) {\n",
              "          const quickchartButtonEl =\n",
              "            document.querySelector('#' + key + ' button');\n",
              "          quickchartButtonEl.disabled = true;  // To prevent multiple clicks.\n",
              "          quickchartButtonEl.classList.add('colab-df-spinner');\n",
              "          try {\n",
              "            const charts = await google.colab.kernel.invokeFunction(\n",
              "                'suggestCharts', [key], {});\n",
              "          } catch (error) {\n",
              "            console.error('Error during call to suggestCharts:', error);\n",
              "          }\n",
              "          quickchartButtonEl.classList.remove('colab-df-spinner');\n",
              "          quickchartButtonEl.classList.add('colab-df-quickchart-complete');\n",
              "        }\n",
              "        (() => {\n",
              "          let quickchartButtonEl =\n",
              "            document.querySelector('#df-2f8eef95-0d6f-4fec-a2df-5d88ead56ce5 button');\n",
              "          quickchartButtonEl.style.display =\n",
              "            google.colab.kernel.accessAllowed ? 'block' : 'none';\n",
              "        })();\n",
              "      </script>\n",
              "    </div>\n",
              "\n",
              "    </div>\n",
              "  </div>\n"
            ],
            "application/vnd.google.colaboratory.intrinsic+json": {
              "type": "dataframe",
              "variable_name": "df"
            }
          },
          "metadata": {},
          "execution_count": 3
        }
      ]
    },
    {
      "cell_type": "code",
      "source": [
        "print(df.shape)   # should be (4435, 37)\n"
      ],
      "metadata": {
        "colab": {
          "base_uri": "https://localhost:8080/"
        },
        "id": "HAHB_WoWriMc",
        "outputId": "03d832e4-e559-4faf-8687-0219e0c34ff8"
      },
      "execution_count": null,
      "outputs": [
        {
          "output_type": "stream",
          "name": "stdout",
          "text": [
            "(4435, 37)\n"
          ]
        }
      ]
    },
    {
      "cell_type": "markdown",
      "source": [
        "- Separate the Label Class from the Dataset ."
      ],
      "metadata": {
        "id": "ih-L8iCjlC2O"
      }
    },
    {
      "cell_type": "code",
      "source": [
        "# Correct slicing\n",
        "X = df.iloc[:, :-1].values\n",
        "y = df.iloc[:,-1].values\n",
        "\n",
        "print(\"✅ Features shape:\", X.shape)\n",
        "print(\"✅ Labels shape:\", y.shape)\n"
      ],
      "metadata": {
        "colab": {
          "base_uri": "https://localhost:8080/"
        },
        "id": "DfGhVudsrtz1",
        "outputId": "ff7fb4a6-3bcc-499b-99ee-0379ffecdf19"
      },
      "execution_count": null,
      "outputs": [
        {
          "output_type": "stream",
          "name": "stdout",
          "text": [
            "✅ Features shape: (4435, 36)\n",
            "✅ Labels shape: (4435,)\n"
          ]
        }
      ]
    },
    {
      "cell_type": "code",
      "source": [
        "print(X[0])\n",
        "print(y[0])"
      ],
      "metadata": {
        "colab": {
          "base_uri": "https://localhost:8080/"
        },
        "id": "_IsZxpjpsJ-l",
        "outputId": "9666da49-7d92-4e8e-d1d6-04c891149f47"
      },
      "execution_count": null,
      "outputs": [
        {
          "output_type": "stream",
          "name": "stdout",
          "text": [
            "[ 92 115 120  94  84 102 106  79  84 102 102  83 101 126 133 103  92 112\n",
            " 118  85  84 103 104  81 102 126 134 104  88 121 128 100  84 107 113  87]\n",
            "3\n"
          ]
        }
      ]
    },
    {
      "cell_type": "markdown",
      "source": [
        "**Now , We standardize our Data **"
      ],
      "metadata": {
        "id": "NNtkRzZ1lO4w"
      }
    },
    {
      "cell_type": "code",
      "source": [
        "scaler = StandardScaler()\n",
        "X_scaled = scaler.fit_transform(X)\n"
      ],
      "metadata": {
        "id": "PgJAXbFUt-bC"
      },
      "execution_count": null,
      "outputs": []
    },
    {
      "cell_type": "markdown",
      "source": [
        "**Train-test split for Traing & testing our Models :**"
      ],
      "metadata": {
        "id": "kktPI0fklaF6"
      }
    },
    {
      "cell_type": "code",
      "source": [
        "X_train, X_test, y_train, y_test = train_test_split(\n",
        "    X_scaled, y, test_size=0.3, random_state=RANDOM_STATE, stratify=y\n",
        ")\n",
        "print(\"Train / Test shapes:\", X_train.shape, X_test.shape)"
      ],
      "metadata": {
        "colab": {
          "base_uri": "https://localhost:8080/"
        },
        "id": "0OcbXK0muMtm",
        "outputId": "7e68a880-d9c2-4d71-b90e-da78c3fd58f2"
      },
      "execution_count": null,
      "outputs": [
        {
          "output_type": "stream",
          "name": "stdout",
          "text": [
            "Train / Test shapes: (3104, 36) (1331, 36)\n"
          ]
        }
      ]
    },
    {
      "cell_type": "markdown",
      "source": [
        "Eventually , we define our models Required :"
      ],
      "metadata": {
        "id": "QnmVnCfjluIn"
      }
    },
    {
      "cell_type": "code",
      "source": [
        "models = {\n",
        "    \"KNN\": KNeighborsClassifier(n_neighbors=5),\n",
        "    \"DecisionTree\": DecisionTreeClassifier(random_state=RANDOM_STATE),\n",
        "    \"Dummy(Prior)\": DummyClassifier(strategy=\"prior\", random_state=RANDOM_STATE),\n",
        "    \"LogisticRegression\": LogisticRegression(max_iter=2000, multi_class=\"ovr\", solver=\"lbfgs\", random_state=RANDOM_STATE),\n",
        "    \"GaussianNB\": GaussianNB(),\n",
        "    \"SVC\": SVC(probability=True, kernel='rbf', random_state=RANDOM_STATE)\n",
        "}"
      ],
      "metadata": {
        "id": "OIIOUKeCuRU_"
      },
      "execution_count": null,
      "outputs": []
    },
    {
      "cell_type": "markdown",
      "source": [
        "**Training all our 6 Models :**"
      ],
      "metadata": {
        "id": "BI0Yg7Isl-RS"
      }
    },
    {
      "cell_type": "code",
      "source": [
        "fitted_models = {}\n",
        "for name, model in models.items():\n",
        "    model.fit(X_train, y_train)\n",
        "    fitted_models[name] = model\n",
        "    print(f\"Trained: {name}\")"
      ],
      "metadata": {
        "colab": {
          "base_uri": "https://localhost:8080/"
        },
        "id": "27JcMHxSuWTc",
        "outputId": "5265318c-cc98-48f9-db28-9da367ba05d6"
      },
      "execution_count": null,
      "outputs": [
        {
          "output_type": "stream",
          "name": "stdout",
          "text": [
            "Trained: KNN\n",
            "Trained: DecisionTree\n",
            "Trained: Dummy(Prior)\n",
            "Trained: LogisticRegression\n",
            "Trained: GaussianNB\n",
            "Trained: SVC\n"
          ]
        }
      ]
    },
    {
      "cell_type": "markdown",
      "source": [
        "### **Baseline Evaluation:**\n",
        "- We calculated Simple Accuracy and Weighted F1- Score for each model .\n",
        "- And then we sort them according to their Accuracy .\n"
      ],
      "metadata": {
        "id": "-K-9OLdRmJJK"
      }
    },
    {
      "cell_type": "code",
      "source": [
        "# Evaluate baseline metrics: Accuracy and Weighted F1\n",
        "from collections import OrderedDict\n",
        "baseline_results = OrderedDict()\n",
        "\n",
        "for name, model in fitted_models.items():\n",
        "    y_pred = model.predict(X_test)\n",
        "    acc = accuracy_score(y_test, y_pred)\n",
        "    w_f1 = f1_score(y_test, y_pred, average='weighted')\n",
        "    baseline_results[name] = {\"accuracy\": acc, \"weighted_f1\": w_f1}\n",
        "\n",
        "# Show results\n",
        "pd.DataFrame(baseline_results).T.sort_values(\"accuracy\", ascending=False)\n"
      ],
      "metadata": {
        "colab": {
          "base_uri": "https://localhost:8080/",
          "height": 231
        },
        "id": "PAmI9UwAukOc",
        "outputId": "7bc09437-4cea-4c62-e59f-682fe1003d71"
      },
      "execution_count": null,
      "outputs": [
        {
          "output_type": "execute_result",
          "data": {
            "text/plain": [
              "                    accuracy  weighted_f1\n",
              "KNN                 0.890308     0.889376\n",
              "SVC                 0.885049     0.880244\n",
              "LogisticRegression  0.839219     0.816289\n",
              "DecisionTree        0.829452     0.829460\n",
              "GaussianNB          0.780616     0.789768\n",
              "Dummy(Prior)        0.241923     0.094252"
            ],
            "text/html": [
              "\n",
              "  <div id=\"df-6bf144b6-2174-4950-8fe6-3df6a5402c73\" class=\"colab-df-container\">\n",
              "    <div>\n",
              "<style scoped>\n",
              "    .dataframe tbody tr th:only-of-type {\n",
              "        vertical-align: middle;\n",
              "    }\n",
              "\n",
              "    .dataframe tbody tr th {\n",
              "        vertical-align: top;\n",
              "    }\n",
              "\n",
              "    .dataframe thead th {\n",
              "        text-align: right;\n",
              "    }\n",
              "</style>\n",
              "<table border=\"1\" class=\"dataframe\">\n",
              "  <thead>\n",
              "    <tr style=\"text-align: right;\">\n",
              "      <th></th>\n",
              "      <th>accuracy</th>\n",
              "      <th>weighted_f1</th>\n",
              "    </tr>\n",
              "  </thead>\n",
              "  <tbody>\n",
              "    <tr>\n",
              "      <th>KNN</th>\n",
              "      <td>0.890308</td>\n",
              "      <td>0.889376</td>\n",
              "    </tr>\n",
              "    <tr>\n",
              "      <th>SVC</th>\n",
              "      <td>0.885049</td>\n",
              "      <td>0.880244</td>\n",
              "    </tr>\n",
              "    <tr>\n",
              "      <th>LogisticRegression</th>\n",
              "      <td>0.839219</td>\n",
              "      <td>0.816289</td>\n",
              "    </tr>\n",
              "    <tr>\n",
              "      <th>DecisionTree</th>\n",
              "      <td>0.829452</td>\n",
              "      <td>0.829460</td>\n",
              "    </tr>\n",
              "    <tr>\n",
              "      <th>GaussianNB</th>\n",
              "      <td>0.780616</td>\n",
              "      <td>0.789768</td>\n",
              "    </tr>\n",
              "    <tr>\n",
              "      <th>Dummy(Prior)</th>\n",
              "      <td>0.241923</td>\n",
              "      <td>0.094252</td>\n",
              "    </tr>\n",
              "  </tbody>\n",
              "</table>\n",
              "</div>\n",
              "    <div class=\"colab-df-buttons\">\n",
              "\n",
              "  <div class=\"colab-df-container\">\n",
              "    <button class=\"colab-df-convert\" onclick=\"convertToInteractive('df-6bf144b6-2174-4950-8fe6-3df6a5402c73')\"\n",
              "            title=\"Convert this dataframe to an interactive table.\"\n",
              "            style=\"display:none;\">\n",
              "\n",
              "  <svg xmlns=\"http://www.w3.org/2000/svg\" height=\"24px\" viewBox=\"0 -960 960 960\">\n",
              "    <path d=\"M120-120v-720h720v720H120Zm60-500h600v-160H180v160Zm220 220h160v-160H400v160Zm0 220h160v-160H400v160ZM180-400h160v-160H180v160Zm440 0h160v-160H620v160ZM180-180h160v-160H180v160Zm440 0h160v-160H620v160Z\"/>\n",
              "  </svg>\n",
              "    </button>\n",
              "\n",
              "  <style>\n",
              "    .colab-df-container {\n",
              "      display:flex;\n",
              "      gap: 12px;\n",
              "    }\n",
              "\n",
              "    .colab-df-convert {\n",
              "      background-color: #E8F0FE;\n",
              "      border: none;\n",
              "      border-radius: 50%;\n",
              "      cursor: pointer;\n",
              "      display: none;\n",
              "      fill: #1967D2;\n",
              "      height: 32px;\n",
              "      padding: 0 0 0 0;\n",
              "      width: 32px;\n",
              "    }\n",
              "\n",
              "    .colab-df-convert:hover {\n",
              "      background-color: #E2EBFA;\n",
              "      box-shadow: 0px 1px 2px rgba(60, 64, 67, 0.3), 0px 1px 3px 1px rgba(60, 64, 67, 0.15);\n",
              "      fill: #174EA6;\n",
              "    }\n",
              "\n",
              "    .colab-df-buttons div {\n",
              "      margin-bottom: 4px;\n",
              "    }\n",
              "\n",
              "    [theme=dark] .colab-df-convert {\n",
              "      background-color: #3B4455;\n",
              "      fill: #D2E3FC;\n",
              "    }\n",
              "\n",
              "    [theme=dark] .colab-df-convert:hover {\n",
              "      background-color: #434B5C;\n",
              "      box-shadow: 0px 1px 3px 1px rgba(0, 0, 0, 0.15);\n",
              "      filter: drop-shadow(0px 1px 2px rgba(0, 0, 0, 0.3));\n",
              "      fill: #FFFFFF;\n",
              "    }\n",
              "  </style>\n",
              "\n",
              "    <script>\n",
              "      const buttonEl =\n",
              "        document.querySelector('#df-6bf144b6-2174-4950-8fe6-3df6a5402c73 button.colab-df-convert');\n",
              "      buttonEl.style.display =\n",
              "        google.colab.kernel.accessAllowed ? 'block' : 'none';\n",
              "\n",
              "      async function convertToInteractive(key) {\n",
              "        const element = document.querySelector('#df-6bf144b6-2174-4950-8fe6-3df6a5402c73');\n",
              "        const dataTable =\n",
              "          await google.colab.kernel.invokeFunction('convertToInteractive',\n",
              "                                                    [key], {});\n",
              "        if (!dataTable) return;\n",
              "\n",
              "        const docLinkHtml = 'Like what you see? Visit the ' +\n",
              "          '<a target=\"_blank\" href=https://colab.research.google.com/notebooks/data_table.ipynb>data table notebook</a>'\n",
              "          + ' to learn more about interactive tables.';\n",
              "        element.innerHTML = '';\n",
              "        dataTable['output_type'] = 'display_data';\n",
              "        await google.colab.output.renderOutput(dataTable, element);\n",
              "        const docLink = document.createElement('div');\n",
              "        docLink.innerHTML = docLinkHtml;\n",
              "        element.appendChild(docLink);\n",
              "      }\n",
              "    </script>\n",
              "  </div>\n",
              "\n",
              "\n",
              "    <div id=\"df-619ab037-acb1-4407-9428-730556b0d5c5\">\n",
              "      <button class=\"colab-df-quickchart\" onclick=\"quickchart('df-619ab037-acb1-4407-9428-730556b0d5c5')\"\n",
              "                title=\"Suggest charts\"\n",
              "                style=\"display:none;\">\n",
              "\n",
              "<svg xmlns=\"http://www.w3.org/2000/svg\" height=\"24px\"viewBox=\"0 0 24 24\"\n",
              "     width=\"24px\">\n",
              "    <g>\n",
              "        <path d=\"M19 3H5c-1.1 0-2 .9-2 2v14c0 1.1.9 2 2 2h14c1.1 0 2-.9 2-2V5c0-1.1-.9-2-2-2zM9 17H7v-7h2v7zm4 0h-2V7h2v10zm4 0h-2v-4h2v4z\"/>\n",
              "    </g>\n",
              "</svg>\n",
              "      </button>\n",
              "\n",
              "<style>\n",
              "  .colab-df-quickchart {\n",
              "      --bg-color: #E8F0FE;\n",
              "      --fill-color: #1967D2;\n",
              "      --hover-bg-color: #E2EBFA;\n",
              "      --hover-fill-color: #174EA6;\n",
              "      --disabled-fill-color: #AAA;\n",
              "      --disabled-bg-color: #DDD;\n",
              "  }\n",
              "\n",
              "  [theme=dark] .colab-df-quickchart {\n",
              "      --bg-color: #3B4455;\n",
              "      --fill-color: #D2E3FC;\n",
              "      --hover-bg-color: #434B5C;\n",
              "      --hover-fill-color: #FFFFFF;\n",
              "      --disabled-bg-color: #3B4455;\n",
              "      --disabled-fill-color: #666;\n",
              "  }\n",
              "\n",
              "  .colab-df-quickchart {\n",
              "    background-color: var(--bg-color);\n",
              "    border: none;\n",
              "    border-radius: 50%;\n",
              "    cursor: pointer;\n",
              "    display: none;\n",
              "    fill: var(--fill-color);\n",
              "    height: 32px;\n",
              "    padding: 0;\n",
              "    width: 32px;\n",
              "  }\n",
              "\n",
              "  .colab-df-quickchart:hover {\n",
              "    background-color: var(--hover-bg-color);\n",
              "    box-shadow: 0 1px 2px rgba(60, 64, 67, 0.3), 0 1px 3px 1px rgba(60, 64, 67, 0.15);\n",
              "    fill: var(--button-hover-fill-color);\n",
              "  }\n",
              "\n",
              "  .colab-df-quickchart-complete:disabled,\n",
              "  .colab-df-quickchart-complete:disabled:hover {\n",
              "    background-color: var(--disabled-bg-color);\n",
              "    fill: var(--disabled-fill-color);\n",
              "    box-shadow: none;\n",
              "  }\n",
              "\n",
              "  .colab-df-spinner {\n",
              "    border: 2px solid var(--fill-color);\n",
              "    border-color: transparent;\n",
              "    border-bottom-color: var(--fill-color);\n",
              "    animation:\n",
              "      spin 1s steps(1) infinite;\n",
              "  }\n",
              "\n",
              "  @keyframes spin {\n",
              "    0% {\n",
              "      border-color: transparent;\n",
              "      border-bottom-color: var(--fill-color);\n",
              "      border-left-color: var(--fill-color);\n",
              "    }\n",
              "    20% {\n",
              "      border-color: transparent;\n",
              "      border-left-color: var(--fill-color);\n",
              "      border-top-color: var(--fill-color);\n",
              "    }\n",
              "    30% {\n",
              "      border-color: transparent;\n",
              "      border-left-color: var(--fill-color);\n",
              "      border-top-color: var(--fill-color);\n",
              "      border-right-color: var(--fill-color);\n",
              "    }\n",
              "    40% {\n",
              "      border-color: transparent;\n",
              "      border-right-color: var(--fill-color);\n",
              "      border-top-color: var(--fill-color);\n",
              "    }\n",
              "    60% {\n",
              "      border-color: transparent;\n",
              "      border-right-color: var(--fill-color);\n",
              "    }\n",
              "    80% {\n",
              "      border-color: transparent;\n",
              "      border-right-color: var(--fill-color);\n",
              "      border-bottom-color: var(--fill-color);\n",
              "    }\n",
              "    90% {\n",
              "      border-color: transparent;\n",
              "      border-bottom-color: var(--fill-color);\n",
              "    }\n",
              "  }\n",
              "</style>\n",
              "\n",
              "      <script>\n",
              "        async function quickchart(key) {\n",
              "          const quickchartButtonEl =\n",
              "            document.querySelector('#' + key + ' button');\n",
              "          quickchartButtonEl.disabled = true;  // To prevent multiple clicks.\n",
              "          quickchartButtonEl.classList.add('colab-df-spinner');\n",
              "          try {\n",
              "            const charts = await google.colab.kernel.invokeFunction(\n",
              "                'suggestCharts', [key], {});\n",
              "          } catch (error) {\n",
              "            console.error('Error during call to suggestCharts:', error);\n",
              "          }\n",
              "          quickchartButtonEl.classList.remove('colab-df-spinner');\n",
              "          quickchartButtonEl.classList.add('colab-df-quickchart-complete');\n",
              "        }\n",
              "        (() => {\n",
              "          let quickchartButtonEl =\n",
              "            document.querySelector('#df-619ab037-acb1-4407-9428-730556b0d5c5 button');\n",
              "          quickchartButtonEl.style.display =\n",
              "            google.colab.kernel.accessAllowed ? 'block' : 'none';\n",
              "        })();\n",
              "      </script>\n",
              "    </div>\n",
              "\n",
              "    </div>\n",
              "  </div>\n"
            ],
            "application/vnd.google.colaboratory.intrinsic+json": {
              "type": "dataframe",
              "summary": "{\n  \"name\": \"pd\",\n  \"rows\": 6,\n  \"fields\": [\n    {\n      \"column\": \"accuracy\",\n      \"properties\": {\n        \"dtype\": \"number\",\n        \"std\": 0.2494353446817829,\n        \"min\": 0.24192336589030805,\n        \"max\": 0.8903080390683696,\n        \"num_unique_values\": 6,\n        \"samples\": [\n          0.8903080390683696,\n          0.8850488354620586,\n          0.24192336589030805\n        ],\n        \"semantic_type\": \"\",\n        \"description\": \"\"\n      }\n    },\n    {\n      \"column\": \"weighted_f1\",\n      \"properties\": {\n        \"dtype\": \"number\",\n        \"std\": 0.3072382341948336,\n        \"min\": 0.09425205543457857,\n        \"max\": 0.8893758604431352,\n        \"num_unique_values\": 6,\n        \"samples\": [\n          0.8893758604431352,\n          0.8802441627753849,\n          0.09425205543457857\n        ],\n        \"semantic_type\": \"\",\n        \"description\": \"\"\n      }\n    }\n  ]\n}"
            }
          },
          "metadata": {},
          "execution_count": 11
        }
      ]
    },
    {
      "cell_type": "markdown",
      "source": [
        "**We observe Dummy Classifier give both poor Accuracy and weighted F1_score as it does not use any input features('X') and always predicts the majority class**\n"
      ],
      "metadata": {
        "id": "u0sMypNFm2s4"
      }
    },
    {
      "cell_type": "markdown",
      "source": [
        "---\n",
        "## **Part B: ROC Analysis for Model Selection**"
      ],
      "metadata": {
        "id": "xDUWHufgnz0q"
      }
    },
    {
      "cell_type": "markdown",
      "source": [
        "**Explanation of APPROACH:**\n",
        "\n",
        "---"
      ],
      "metadata": {
        "id": "YjvrDtSsfpMi"
      }
    },
    {
      "cell_type": "markdown",
      "source": [
        "**One-vs-Rest (OvR) approach is used to generate ROC curves :**\n",
        "\n",
        "In the OvR approach:\n",
        "- We split the multi-class problem into multiple binary subproblems.\n",
        "- For each class Ci :\n",
        "     - Treat Ci as the positive class.\n",
        "     - Treat all other classes as the negative class (rest).\n",
        "\n",
        "So if you have 6 classes, you get 6 binary classification problems.\n",
        "\n",
        "**How ROC is Computed in OvR :**\n",
        "\n",
        "For each class Ci :\n",
        "1. The classifier gives a probability score (or decision function) Pi(x) that represents the likelihood that sample x belongs to class i.\n",
        "2. **Using these scores:**\n",
        "\n",
        "    - Compute the True Positive Rate (TPR) and False Positive Rate (FPR) across different thresholds.\n",
        "    - Plot the ROC curve for that class:\n"
      ],
      "metadata": {
        "id": "ebLsq-Qbbkot"
      }
    },
    {
      "cell_type": "markdown",
      "source": [
        "### ROC Curve and Area Under Curve(AUC) for Class \\(Ci\\)\n",
        "\n",
        "**True Positive Rate (TPR)** and **False Positive Rate (FPR)** are defined as:\n",
        "\n",
        "              TPR = TP⁄(TP + FN)  \n",
        "\n",
        "              FPR = FP⁄(FP + TN)\n",
        "\n",
        "where:  \n",
        "- **TP** = True Positives  \n",
        "- **FN** = False Negatives  \n",
        "- **FP** = False Positives  \n",
        "- **TN** = True Negatives  \n",
        "\n",
        "The **ROC (Receiver Operating Characteristic) curve** plots TPR against FPR across different classification thresholds.\n",
        "\n",
        "The **Area Under the ROC Curve (AUC)** for class \\(Ci\\) is given by:\n",
        "\n",
        "        AUCᵢ = ∫₀¹ TPRᵢ(FPRᵢ) d(FPRᵢ)\n",
        "\n",
        "\n",
        "This represents the probability that the classifier ranks a random positive instance higher than a random negative one for class Ci\n",
        " .\n",
        "\n",
        " ---\n",
        "\n",
        " Here we use AUC Package from Sklearn library to calculate AUC for each Model ."
      ],
      "metadata": {
        "id": "_eVinocudvw_"
      }
    },
    {
      "cell_type": "markdown",
      "source": [
        "**One-vs-Rest binarization of labels**"
      ],
      "metadata": {
        "id": "qOwGhUINn7Kj"
      }
    },
    {
      "cell_type": "code",
      "source": [
        "from sklearn.preprocessing import label_binarize\n",
        "from sklearn.metrics import roc_curve, auc\n",
        "from sklearn.metrics import roc_auc_score\n",
        "\n",
        "classes = np.unique(y_test)\n",
        "y_test_bin = label_binarize(y_test, classes=classes)\n",
        "\n",
        "roc_results = {}\n",
        "\n",
        "for name, model in fitted_models.items():\n",
        "\n",
        "    # obtain per-class scores\n",
        "    if hasattr(model, \"predict_proba\"):\n",
        "        y_score = model.predict_proba(X_test)\n",
        "    else:\n",
        "        y_score = model.decision_function(X_test)\n",
        "\n",
        "    # per-class ROC\n",
        "    fpr, tpr, roc_auc = {}, {}, {}\n",
        "    for i in range(len(classes)):\n",
        "        fpr[i], tpr[i], _ = roc_curve(y_test_bin[:, i], y_score[:, i])\n",
        "        roc_auc[i] = auc(fpr[i], tpr[i])\n",
        "\n",
        "    # macro-average ROC\n",
        "    all_fpr = np.unique(np.concatenate([fpr[i] for i in range(len(classes))]))\n",
        "    mean_tpr = np.zeros_like(all_fpr)\n",
        "    for i in range(len(classes)):\n",
        "        mean_tpr += np.interp(all_fpr, fpr[i], tpr[i])\n",
        "    mean_tpr /= len(classes)\n",
        "    macro_auc = auc(all_fpr, mean_tpr)\n",
        "\n",
        "    roc_results[name] = {\"fpr\": all_fpr, \"tpr\": mean_tpr, \"macro_auc\": macro_auc}\n",
        "\n"
      ],
      "metadata": {
        "id": "R-SOxlL0vEmI"
      },
      "execution_count": null,
      "outputs": []
    },
    {
      "cell_type": "markdown",
      "source": [
        "**OvR ROC curves for all six models :**"
      ],
      "metadata": {
        "id": "7Xo2zmEupG2Q"
      }
    },
    {
      "cell_type": "code",
      "source": [
        "plt.figure(figsize=(10, 8))\n",
        "colors = cycle([\"navy\", \"darkorange\", \"green\", \"red\", \"purple\", \"brown\"])\n",
        "for (name, res), c in zip(roc_results.items(), colors):\n",
        "    plt.plot(res[\"fpr\"], res[\"tpr\"], color=c,\n",
        "             label=f\"{name} (Macro AUC = {res['macro_auc']:.3f})\", lw=2)\n",
        "\n",
        "plt.plot([0, 1], [0, 1], \"k--\", label=\"Chance (AUC = 0.5)\")\n",
        "plt.xlabel(\"False Positive Rate\")\n",
        "plt.ylabel(\"True Positive Rate\")\n",
        "plt.title(\"Macro-Averaged ROC Curves — All Models\")\n",
        "plt.legend(loc=\"lower right\")\n",
        "plt.grid(True)\n",
        "plt.show()\n"
      ],
      "metadata": {
        "colab": {
          "base_uri": "https://localhost:8080/",
          "height": 717
        },
        "id": "syudyN61vXHI",
        "outputId": "2b35e08a-3f72-4b62-a097-91287841fb79"
      },
      "execution_count": null,
      "outputs": [
        {
          "output_type": "display_data",
          "data": {
            "text/plain": [
              "<Figure size 1000x800 with 1 Axes>"
            ],
            "image/png": "[encoded data removed]"
          },
          "metadata": {}
        }
      ]
    },
    {
      "cell_type": "markdown",
      "source": [
        "**Finding the best model and model with AUC<0.5 :**"
      ],
      "metadata": {
        "id": "st8EobkmpX3e"
      }
    },
    {
      "cell_type": "code",
      "source": [
        "macro_aucs = {name: res[\"macro_auc\"] for name, res in roc_results.items()}\n",
        "best_model = max(macro_aucs, key=macro_aucs.get)\n",
        "worst_models = [m for m, v in macro_aucs.items() if v < 0.5]\n",
        "\n",
        "print(\" Best model by Macro AUC:\", best_model, f\"(AUC = {macro_aucs[best_model]:.3f})\")\n",
        "print(\" No model has Macro AUC < 0.5\")"
      ],
      "metadata": {
        "colab": {
          "base_uri": "https://localhost:8080/"
        },
        "id": "couyp7snvc-E",
        "outputId": "6f7a49bd-5499-4f83-cdaf-2c50f7734bfb"
      },
      "execution_count": null,
      "outputs": [
        {
          "output_type": "stream",
          "name": "stdout",
          "text": [
            " Best model by Macro AUC: SVC (AUC = 0.981)\n",
            " No model has Macro AUC < 0.5\n"
          ]
        }
      ]
    },
    {
      "cell_type": "markdown",
      "source": [
        "**Support Vector Machine Classifier** has the highest Macro AUC .\n",
        "\n",
        "No Model show Macro AUC <0.5 ."
      ],
      "metadata": {
        "id": "NE_n2HcRQ8tQ"
      }
    },
    {
      "cell_type": "markdown",
      "source": [
        "## **Why Model shows AUC < 0.5 ?**"
      ],
      "metadata": {
        "id": "ziAV1Q5JPplL"
      }
    },
    {
      "cell_type": "markdown",
      "source": [
        "Although **no model** in our analysis produced a Macro **AUC below 0.5**, a model with AUC < 0.5 would conceptually indicate performance worse than random guessing — meaning it consistently ranks negative samples above positive ones.\n",
        "\n",
        " This can **occur due to inverted decision boundaries**, **poor feature scaling**, or **inappropriate model assumptions**, such as in a Dummy or Naive Bayes classifier on complex datasets."
      ],
      "metadata": {
        "id": "GUxHcJ7_PeTW"
      }
    },
    {
      "cell_type": "markdown",
      "source": [
        "PART C:"
      ],
      "metadata": {
        "id": "Dfo7BZj9uDpC"
      }
    },
    {
      "cell_type": "markdown",
      "source": [
        "### **why the Precision-Recall Curve (PRC) is a more suitablemetric than ROC when dealing with highly imbalanced classes ?**\n",
        "\n",
        "---\n",
        "\n",
        "The Precision–Recall Curve (PRC) is more suitable than the ROC curve for imbalanced datasets as :\n",
        "- **PRC focuses on the positive (minority) class**, unlike ROC which includes true negatives.\n",
        "- ROC can look overly optimistic when negatives dominate (common in imbalanced data).\n",
        "- PRC directly measures precision vs recall, showing how reliable positive predictions are.\n",
        "- It Highlights performance on rare or important classes, where precision matters most.\n",
        "- Even with moderate imbalance, PRC gives a clearer view of real model effectiveness."
      ],
      "metadata": {
        "id": "jqaMYSj0W2aN"
      }
    },
    {
      "cell_type": "markdown",
      "source": [
        "**Calculating Recall and Precision for the PRC curves for all models :**"
      ],
      "metadata": {
        "id": "AS7tSeZ2RtwA"
      }
    },
    {
      "cell_type": "code",
      "source": [
        "classes = np.unique(y_test)\n",
        "y_test_bin = label_binarize(y_test, classes=classes)\n",
        "\n",
        "prc_results = {}\n",
        "\n",
        "for name, model in fitted_models.items():\n",
        "    # Get predicted scores\n",
        "    if hasattr(model, \"predict_proba\"):\n",
        "        y_score = model.predict_proba(X_test)\n",
        "    else:\n",
        "        y_score = model.decision_function(X_test)\n",
        "\n",
        "    precision, recall, avg_precision = {}, {}, {}\n",
        "    for i in range(len(classes)):\n",
        "        precision[i], recall[i], _ = precision_recall_curve(y_test_bin[:, i], y_score[:, i])\n",
        "        avg_precision[i] = average_precision_score(y_test_bin[:, i], y_score[:, i])\n",
        "\n",
        "    # Macro-average: unweighted mean of per-class curves\n",
        "    all_recall = np.unique(np.concatenate([recall[i] for i in range(len(classes))]))\n",
        "    mean_precision = np.zeros_like(all_recall)\n",
        "    for i in range(len(classes)):\n",
        "        mean_precision += np.interp(all_recall, recall[i][::-1], precision[i][::-1])\n",
        "    mean_precision /= len(classes)\n",
        "\n",
        "    macro_ap = np.mean(list(avg_precision.values()))\n",
        "\n",
        "    prc_results[name] = {\n",
        "        \"recall\": all_recall,\n",
        "        \"precision\": mean_precision,\n",
        "        \"macro_ap\": macro_ap,\n",
        "        \"avg_precision\": avg_precision,\n",
        "    }"
      ],
      "metadata": {
        "id": "NkSdu431uDG-"
      },
      "execution_count": null,
      "outputs": []
    },
    {
      "cell_type": "markdown",
      "source": [
        "**plotting the OvR PRC curves for all six models :**"
      ],
      "metadata": {
        "id": "fDCxUUH8RdGp"
      }
    },
    {
      "cell_type": "code",
      "source": [
        "plt.figure(figsize=(10, 8))\n",
        "colors = cycle([\"navy\", \"darkorange\", \"green\", \"red\", \"purple\", \"brown\"])\n",
        "for (name, res), c in zip(prc_results.items(), colors):\n",
        "    plt.plot(res[\"recall\"], res[\"precision\"], color=c,\n",
        "             label=f\"{name} (Macro AP = {res['macro_ap']:.3f})\", lw=2)\n",
        "\n",
        "plt.xlabel(\"Recall\")\n",
        "plt.ylabel(\"Precision\")\n",
        "plt.title(\"Macro-Averaged Precision–Recall Curves — All Models\")\n",
        "plt.legend(loc=\"lower left\")\n",
        "plt.grid(True)\n",
        "plt.show()"
      ],
      "metadata": {
        "colab": {
          "base_uri": "https://localhost:8080/",
          "height": 717
        },
        "id": "ZQ017QkmukPm",
        "outputId": "5ea74eb9-fe65-473c-ca92-feaee6650345"
      },
      "execution_count": null,
      "outputs": [
        {
          "output_type": "display_data",
          "data": {
            "text/plain": [
              "<Figure size 1000x800 with 1 Axes>"
            ],
            "image/png": "[encoded data removed]"
          },
          "metadata": {}
        }
      ]
    },
    {
      "cell_type": "code",
      "source": [
        "macro_aps = {name: res[\"macro_ap\"] for name, res in prc_results.items()}\n",
        "best_model_pr = max(macro_aps, key=macro_aps.get)\n",
        "worst_model_pr = min(macro_aps, key=macro_aps.get)\n",
        "\n",
        "print(\"🏆 Best model by Macro Average Precision:\", best_model_pr,\n",
        "      f\"(AP = {macro_aps[best_model_pr]:.3f})\")\n",
        "print(\"⚠️ Worst model by Macro Average Precision:\", worst_model_pr,\n",
        "      f\"(AP = {macro_aps[worst_model_pr]:.3f})\")"
      ],
      "metadata": {
        "colab": {
          "base_uri": "https://localhost:8080/"
        },
        "id": "k_NSKaFausfP",
        "outputId": "093efced-2525-4a2c-c0ae-d87afecf563b"
      },
      "execution_count": null,
      "outputs": [
        {
          "output_type": "stream",
          "name": "stdout",
          "text": [
            "🏆 Best model by Macro Average Precision: SVC (AP = 0.908)\n",
            "⚠️ Worst model by Macro Average Precision: Dummy(Prior) (AP = 0.167)\n"
          ]
        }
      ]
    },
    {
      "cell_type": "markdown",
      "source": [
        "**SVC model with the highest Average Precision (AP).**\n",
        "\n",
        "**Dummy(Prior)** Model shows worst Average Precision (AP) .\n",
        "\n",
        "---\n",
        "\n",
        "**Analyzing the Behavior of Dummy (Prior) Model :**\n",
        "\n",
        "- The Dummy Classifier (Prior) always predicts the majority class, regardless of the input features.\n",
        "- It does not learn any relationship between features and labels.\n",
        "\n",
        "Therefore, it provides constant or near-random predictions across all samples.\n",
        "\n",
        "**Look at the PRC curve , I plotted to show tradeoff b/w Precision and Recall in Dummy(Prior) Model .**"
      ],
      "metadata": {
        "id": "-7MTxAfrSbZA"
      }
    },
    {
      "cell_type": "code",
      "source": [
        "res = prc_results[worst_model_pr]\n",
        "plt.figure(figsize=(8, 6))\n",
        "for i, c in enumerate(classes):\n",
        "    plt.plot(res[\"recall\"], res[\"precision\"], alpha=0.3)\n",
        "plt.xlabel(\"Recall\")\n",
        "plt.ylabel(\"Precision\")\n",
        "plt.title(f\"Per-Class PRC — Worst Model: {worst_model_pr}\")\n",
        "plt.grid(True)\n",
        "plt.show()"
      ],
      "metadata": {
        "colab": {
          "base_uri": "https://localhost:8080/",
          "height": 563
        },
        "id": "_e4tELiEu0g-",
        "outputId": "a3bfc243-58d9-4953-b396-6bc5cb3cf14f"
      },
      "execution_count": null,
      "outputs": [
        {
          "output_type": "display_data",
          "data": {
            "text/plain": [
              "<Figure size 800x600 with 1 Axes>"
            ],
            "image/png": "[encoded data removed]"
          },
          "metadata": {}
        }
      ]
    },
    {
      "cell_type": "markdown",
      "source": [
        "## **Why does the curve drop sharply as Recall increases for poor models?**\n",
        "First look at the following:\n",
        "\n",
        "**Precision vs Recall Trade-off**\n",
        "\n",
        "- Precision = TP / (TP + FP) → “Of the predicted positives, how many are correct?”\n",
        "- Recall = TP / (TP + FN) → “Of all actual positives, how many did we capture?”\n",
        "\n",
        "For Poor models, when we increase Recall (that is , try to capture more true positives by lowering the decision threshold), we also start including many false positives, because the model cannot properly distinguish between classes.\n",
        "As a result:\n",
        "- True Positives (TP) increase slowly,\n",
        "- False Positives (FP) increase rapidly,\n",
        "so Precision = TP / (TP + FP) falls very quickly.\n",
        "\n",
        "This causes the Precision–Recall Curve to drop sharply — the model’s\n",
        "predictions become increasingly noisy as it tries to identify more positives.\n",
        "\n",
        "→ **Therefore ,PRC drops sharply because precision falls steeply when recall increases for poor Models .(Dummy(Prior) Model as AP<0.5).**\n",
        "\n",
        "---\n",
        "\n",
        "\n"
      ],
      "metadata": {
        "id": "Hf9WWlOZTBHn"
      }
    },
    {
      "cell_type": "markdown",
      "source": [
        "PART D:"
      ],
      "metadata": {
        "id": "E3LZsSVby_CY"
      }
    },
    {
      "cell_type": "markdown",
      "source": [
        "**Find F1 score , auc and Average precision(AP) for each model :**"
      ],
      "metadata": {
        "id": "n1GJZHiMhTv2"
      }
    },
    {
      "cell_type": "code",
      "source": [
        "rows = []\n",
        "for name in fitted_models.keys():\n",
        "    f1  = baseline_results[name][\"weighted_f1\"]\n",
        "    auc = roc_results[name][\"macro_auc\"]\n",
        "    ap  = prc_results[name][\"macro_ap\"]\n",
        "    rows.append({\"Model\": name, \"F1\": f1, \"ROC_AUC\": auc, \"PRC_AP\": ap})\n",
        "\n",
        "metrics_df = pd.DataFrame(rows).set_index(\"Model\").round(4)"
      ],
      "metadata": {
        "id": "8Qh6E4fpyYwl"
      },
      "execution_count": null,
      "outputs": []
    },
    {
      "cell_type": "markdown",
      "source": [
        "**Ranking the model according to different metrics :**"
      ],
      "metadata": {
        "id": "A0HSbEyihfYE"
      }
    },
    {
      "cell_type": "code",
      "source": [
        "# Compute ranks (1 = best)\n",
        "metrics_df[\"Rank_F1\"]      = metrics_df[\"F1\"].rank(ascending=False, method=\"min\").astype(int)\n",
        "metrics_df[\"Rank_ROC_AUC\"] = metrics_df[\"ROC_AUC\"].rank(ascending=False, method=\"min\").astype(int)\n",
        "metrics_df[\"Rank_PRC_AP\"]  = metrics_df[\"PRC_AP\"].rank(ascending=False, method=\"min\").astype(int)\n"
      ],
      "metadata": {
        "id": "hFZfHmk6zDSS"
      },
      "execution_count": null,
      "outputs": []
    },
    {
      "cell_type": "code",
      "source": [
        "# Combined rank (sum) and rank spread\n",
        "metrics_df[\"Rank_Sum\"] = metrics_df[[\"Rank_F1\", \"Rank_ROC_AUC\", \"Rank_PRC_AP\"]].sum(axis=1)\n",
        "metrics_df[\"Rank_Spread\"] = metrics_df[[\"Rank_F1\", \"Rank_ROC_AUC\", \"Rank_PRC_AP\"]].max(axis=1) - metrics_df[[\"Rank_F1\", \"Rank_ROC_AUC\", \"Rank_PRC_AP\"]].min(axis=1)\n"
      ],
      "metadata": {
        "id": "2x87A4LZ00Jd"
      },
      "execution_count": null,
      "outputs": []
    },
    {
      "cell_type": "markdown",
      "source": [
        "**Display the final Result :**"
      ],
      "metadata": {
        "id": "o42nilPLhtEN"
      }
    },
    {
      "cell_type": "code",
      "source": [
        "# Sort by combined rank for summary\n",
        "metrics_sorted = metrics_df.sort_values([\"Rank_Sum\", \"Rank_Spread\"])\n",
        "display(metrics_sorted[['Rank_F1','Rank_PRC_AP', 'Rank_ROC_AUC']])\n"
      ],
      "metadata": {
        "colab": {
          "base_uri": "https://localhost:8080/",
          "height": 261
        },
        "id": "6VA753If0bLl",
        "outputId": "6b313500-19f6-481c-eed5-a579d3ff3a8e"
      },
      "execution_count": null,
      "outputs": [
        {
          "output_type": "display_data",
          "data": {
            "text/plain": [
              "                    Rank_F1  Rank_PRC_AP  Rank_ROC_AUC\n",
              "Model                                                 \n",
              "SVC                       2            1             1\n",
              "KNN                       1            2             2\n",
              "LogisticRegression        4            3             4\n",
              "GaussianNB                5            4             3\n",
              "DecisionTree              3            5             5\n",
              "Dummy(Prior)              6            6             6"
            ],
            "text/html": [
              "\n",
              "  <div id=\"df-0c3e945e-12d9-4d05-a895-5a46de6419f6\" class=\"colab-df-container\">\n",
              "    <div>\n",
              "<style scoped>\n",
              "    .dataframe tbody tr th:only-of-type {\n",
              "        vertical-align: middle;\n",
              "    }\n",
              "\n",
              "    .dataframe tbody tr th {\n",
              "        vertical-align: top;\n",
              "    }\n",
              "\n",
              "    .dataframe thead th {\n",
              "        text-align: right;\n",
              "    }\n",
              "</style>\n",
              "<table border=\"1\" class=\"dataframe\">\n",
              "  <thead>\n",
              "    <tr style=\"text-align: right;\">\n",
              "      <th></th>\n",
              "      <th>Rank_F1</th>\n",
              "      <th>Rank_PRC_AP</th>\n",
              "      <th>Rank_ROC_AUC</th>\n",
              "    </tr>\n",
              "    <tr>\n",
              "      <th>Model</th>\n",
              "      <th></th>\n",
              "      <th></th>\n",
              "      <th></th>\n",
              "    </tr>\n",
              "  </thead>\n",
              "  <tbody>\n",
              "    <tr>\n",
              "      <th>SVC</th>\n",
              "      <td>2</td>\n",
              "      <td>1</td>\n",
              "      <td>1</td>\n",
              "    </tr>\n",
              "    <tr>\n",
              "      <th>KNN</th>\n",
              "      <td>1</td>\n",
              "      <td>2</td>\n",
              "      <td>2</td>\n",
              "    </tr>\n",
              "    <tr>\n",
              "      <th>LogisticRegression</th>\n",
              "      <td>4</td>\n",
              "      <td>3</td>\n",
              "      <td>4</td>\n",
              "    </tr>\n",
              "    <tr>\n",
              "      <th>GaussianNB</th>\n",
              "      <td>5</td>\n",
              "      <td>4</td>\n",
              "      <td>3</td>\n",
              "    </tr>\n",
              "    <tr>\n",
              "      <th>DecisionTree</th>\n",
              "      <td>3</td>\n",
              "      <td>5</td>\n",
              "      <td>5</td>\n",
              "    </tr>\n",
              "    <tr>\n",
              "      <th>Dummy(Prior)</th>\n",
              "      <td>6</td>\n",
              "      <td>6</td>\n",
              "      <td>6</td>\n",
              "    </tr>\n",
              "  </tbody>\n",
              "</table>\n",
              "</div>\n",
              "    <div class=\"colab-df-buttons\">\n",
              "\n",
              "  <div class=\"colab-df-container\">\n",
              "    <button class=\"colab-df-convert\" onclick=\"convertToInteractive('df-0c3e945e-12d9-4d05-a895-5a46de6419f6')\"\n",
              "            title=\"Convert this dataframe to an interactive table.\"\n",
              "            style=\"display:none;\">\n",
              "\n",
              "  <svg xmlns=\"http://www.w3.org/2000/svg\" height=\"24px\" viewBox=\"0 -960 960 960\">\n",
              "    <path d=\"M120-120v-720h720v720H120Zm60-500h600v-160H180v160Zm220 220h160v-160H400v160Zm0 220h160v-160H400v160ZM180-400h160v-160H180v160Zm440 0h160v-160H620v160ZM180-180h160v-160H180v160Zm440 0h160v-160H620v160Z\"/>\n",
              "  </svg>\n",
              "    </button>\n",
              "\n",
              "  <style>\n",
              "    .colab-df-container {\n",
              "      display:flex;\n",
              "      gap: 12px;\n",
              "    }\n",
              "\n",
              "    .colab-df-convert {\n",
              "      background-color: #E8F0FE;\n",
              "      border: none;\n",
              "      border-radius: 50%;\n",
              "      cursor: pointer;\n",
              "      display: none;\n",
              "      fill: #1967D2;\n",
              "      height: 32px;\n",
              "      padding: 0 0 0 0;\n",
              "      width: 32px;\n",
              "    }\n",
              "\n",
              "    .colab-df-convert:hover {\n",
              "      background-color: #E2EBFA;\n",
              "      box-shadow: 0px 1px 2px rgba(60, 64, 67, 0.3), 0px 1px 3px 1px rgba(60, 64, 67, 0.15);\n",
              "      fill: #174EA6;\n",
              "    }\n",
              "\n",
              "    .colab-df-buttons div {\n",
              "      margin-bottom: 4px;\n",
              "    }\n",
              "\n",
              "    [theme=dark] .colab-df-convert {\n",
              "      background-color: #3B4455;\n",
              "      fill: #D2E3FC;\n",
              "    }\n",
              "\n",
              "    [theme=dark] .colab-df-convert:hover {\n",
              "      background-color: #434B5C;\n",
              "      box-shadow: 0px 1px 3px 1px rgba(0, 0, 0, 0.15);\n",
              "      filter: drop-shadow(0px 1px 2px rgba(0, 0, 0, 0.3));\n",
              "      fill: #FFFFFF;\n",
              "    }\n",
              "  </style>\n",
              "\n",
              "    <script>\n",
              "      const buttonEl =\n",
              "        document.querySelector('#df-0c3e945e-12d9-4d05-a895-5a46de6419f6 button.colab-df-convert');\n",
              "      buttonEl.style.display =\n",
              "        google.colab.kernel.accessAllowed ? 'block' : 'none';\n",
              "\n",
              "      async function convertToInteractive(key) {\n",
              "        const element = document.querySelector('#df-0c3e945e-12d9-4d05-a895-5a46de6419f6');\n",
              "        const dataTable =\n",
              "          await google.colab.kernel.invokeFunction('convertToInteractive',\n",
              "                                                    [key], {});\n",
              "        if (!dataTable) return;\n",
              "\n",
              "        const docLinkHtml = 'Like what you see? Visit the ' +\n",
              "          '<a target=\"_blank\" href=https://colab.research.google.com/notebooks/data_table.ipynb>data table notebook</a>'\n",
              "          + ' to learn more about interactive tables.';\n",
              "        element.innerHTML = '';\n",
              "        dataTable['output_type'] = 'display_data';\n",
              "        await google.colab.output.renderOutput(dataTable, element);\n",
              "        const docLink = document.createElement('div');\n",
              "        docLink.innerHTML = docLinkHtml;\n",
              "        element.appendChild(docLink);\n",
              "      }\n",
              "    </script>\n",
              "  </div>\n",
              "\n",
              "\n",
              "    <div id=\"df-2f70bbb3-0d6a-4135-8f0a-098d2515c6c2\">\n",
              "      <button class=\"colab-df-quickchart\" onclick=\"quickchart('df-2f70bbb3-0d6a-4135-8f0a-098d2515c6c2')\"\n",
              "                title=\"Suggest charts\"\n",
              "                style=\"display:none;\">\n",
              "\n",
              "<svg xmlns=\"http://www.w3.org/2000/svg\" height=\"24px\"viewBox=\"0 0 24 24\"\n",
              "     width=\"24px\">\n",
              "    <g>\n",
              "        <path d=\"M19 3H5c-1.1 0-2 .9-2 2v14c0 1.1.9 2 2 2h14c1.1 0 2-.9 2-2V5c0-1.1-.9-2-2-2zM9 17H7v-7h2v7zm4 0h-2V7h2v10zm4 0h-2v-4h2v4z\"/>\n",
              "    </g>\n",
              "</svg>\n",
              "      </button>\n",
              "\n",
              "<style>\n",
              "  .colab-df-quickchart {\n",
              "      --bg-color: #E8F0FE;\n",
              "      --fill-color: #1967D2;\n",
              "      --hover-bg-color: #E2EBFA;\n",
              "      --hover-fill-color: #174EA6;\n",
              "      --disabled-fill-color: #AAA;\n",
              "      --disabled-bg-color: #DDD;\n",
              "  }\n",
              "\n",
              "  [theme=dark] .colab-df-quickchart {\n",
              "      --bg-color: #3B4455;\n",
              "      --fill-color: #D2E3FC;\n",
              "      --hover-bg-color: #434B5C;\n",
              "      --hover-fill-color: #FFFFFF;\n",
              "      --disabled-bg-color: #3B4455;\n",
              "      --disabled-fill-color: #666;\n",
              "  }\n",
              "\n",
              "  .colab-df-quickchart {\n",
              "    background-color: var(--bg-color);\n",
              "    border: none;\n",
              "    border-radius: 50%;\n",
              "    cursor: pointer;\n",
              "    display: none;\n",
              "    fill: var(--fill-color);\n",
              "    height: 32px;\n",
              "    padding: 0;\n",
              "    width: 32px;\n",
              "  }\n",
              "\n",
              "  .colab-df-quickchart:hover {\n",
              "    background-color: var(--hover-bg-color);\n",
              "    box-shadow: 0 1px 2px rgba(60, 64, 67, 0.3), 0 1px 3px 1px rgba(60, 64, 67, 0.15);\n",
              "    fill: var(--button-hover-fill-color);\n",
              "  }\n",
              "\n",
              "  .colab-df-quickchart-complete:disabled,\n",
              "  .colab-df-quickchart-complete:disabled:hover {\n",
              "    background-color: var(--disabled-bg-color);\n",
              "    fill: var(--disabled-fill-color);\n",
              "    box-shadow: none;\n",
              "  }\n",
              "\n",
              "  .colab-df-spinner {\n",
              "    border: 2px solid var(--fill-color);\n",
              "    border-color: transparent;\n",
              "    border-bottom-color: var(--fill-color);\n",
              "    animation:\n",
              "      spin 1s steps(1) infinite;\n",
              "  }\n",
              "\n",
              "  @keyframes spin {\n",
              "    0% {\n",
              "      border-color: transparent;\n",
              "      border-bottom-color: var(--fill-color);\n",
              "      border-left-color: var(--fill-color);\n",
              "    }\n",
              "    20% {\n",
              "      border-color: transparent;\n",
              "      border-left-color: var(--fill-color);\n",
              "      border-top-color: var(--fill-color);\n",
              "    }\n",
              "    30% {\n",
              "      border-color: transparent;\n",
              "      border-left-color: var(--fill-color);\n",
              "      border-top-color: var(--fill-color);\n",
              "      border-right-color: var(--fill-color);\n",
              "    }\n",
              "    40% {\n",
              "      border-color: transparent;\n",
              "      border-right-color: var(--fill-color);\n",
              "      border-top-color: var(--fill-color);\n",
              "    }\n",
              "    60% {\n",
              "      border-color: transparent;\n",
              "      border-right-color: var(--fill-color);\n",
              "    }\n",
              "    80% {\n",
              "      border-color: transparent;\n",
              "      border-right-color: var(--fill-color);\n",
              "      border-bottom-color: var(--fill-color);\n",
              "    }\n",
              "    90% {\n",
              "      border-color: transparent;\n",
              "      border-bottom-color: var(--fill-color);\n",
              "    }\n",
              "  }\n",
              "</style>\n",
              "\n",
              "      <script>\n",
              "        async function quickchart(key) {\n",
              "          const quickchartButtonEl =\n",
              "            document.querySelector('#' + key + ' button');\n",
              "          quickchartButtonEl.disabled = true;  // To prevent multiple clicks.\n",
              "          quickchartButtonEl.classList.add('colab-df-spinner');\n",
              "          try {\n",
              "            const charts = await google.colab.kernel.invokeFunction(\n",
              "                'suggestCharts', [key], {});\n",
              "          } catch (error) {\n",
              "            console.error('Error during call to suggestCharts:', error);\n",
              "          }\n",
              "          quickchartButtonEl.classList.remove('colab-df-spinner');\n",
              "          quickchartButtonEl.classList.add('colab-df-quickchart-complete');\n",
              "        }\n",
              "        (() => {\n",
              "          let quickchartButtonEl =\n",
              "            document.querySelector('#df-2f70bbb3-0d6a-4135-8f0a-098d2515c6c2 button');\n",
              "          quickchartButtonEl.style.display =\n",
              "            google.colab.kernel.accessAllowed ? 'block' : 'none';\n",
              "        })();\n",
              "      </script>\n",
              "    </div>\n",
              "\n",
              "    </div>\n",
              "  </div>\n"
            ],
            "application/vnd.google.colaboratory.intrinsic+json": {
              "type": "dataframe",
              "summary": "{\n  \"name\": \"display(metrics_sorted[['Rank_F1','Rank_PRC_AP', 'Rank_ROC_AUC']])\",\n  \"rows\": 6,\n  \"fields\": [\n    {\n      \"column\": \"Model\",\n      \"properties\": {\n        \"dtype\": \"string\",\n        \"num_unique_values\": 6,\n        \"samples\": [\n          \"SVC\",\n          \"KNN\",\n          \"Dummy(Prior)\"\n        ],\n        \"semantic_type\": \"\",\n        \"description\": \"\"\n      }\n    },\n    {\n      \"column\": \"Rank_F1\",\n      \"properties\": {\n        \"dtype\": \"number\",\n        \"std\": 1,\n        \"min\": 1,\n        \"max\": 6,\n        \"num_unique_values\": 6,\n        \"samples\": [\n          2,\n          1,\n          6\n        ],\n        \"semantic_type\": \"\",\n        \"description\": \"\"\n      }\n    },\n    {\n      \"column\": \"Rank_PRC_AP\",\n      \"properties\": {\n        \"dtype\": \"number\",\n        \"std\": 1,\n        \"min\": 1,\n        \"max\": 6,\n        \"num_unique_values\": 6,\n        \"samples\": [\n          1,\n          2,\n          6\n        ],\n        \"semantic_type\": \"\",\n        \"description\": \"\"\n      }\n    },\n    {\n      \"column\": \"Rank_ROC_AUC\",\n      \"properties\": {\n        \"dtype\": \"number\",\n        \"std\": 1,\n        \"min\": 1,\n        \"max\": 6,\n        \"num_unique_values\": 6,\n        \"samples\": [\n          1,\n          2,\n          6\n        ],\n        \"semantic_type\": \"\",\n        \"description\": \"\"\n      }\n    }\n  ]\n}"
            }
          },
          "metadata": {}
        }
      ]
    },
    {
      "cell_type": "code",
      "source": [
        "DISAGREE_THRESHOLD = 2\n",
        "disagreeing = metrics_sorted[metrics_sorted[\"Rank_Spread\"] >= DISAGREE_THRESHOLD]\n",
        "\n",
        "if not disagreeing.empty:\n",
        "    print(f\"\\n⚠️ Models with notable ranking disagreement (Rank_Spread >= {DISAGREE_THRESHOLD}):\")\n",
        "    display(disagreeing)\n",
        "else:\n",
        "    print(f\"\\n✅ No models have Rank_Spread >= {DISAGREE_THRESHOLD}; rankings largely agree.\")\n",
        "\n"
      ],
      "metadata": {
        "colab": {
          "base_uri": "https://localhost:8080/",
          "height": 172
        },
        "id": "IaeXMo9g0HAX",
        "outputId": "6319e218-917c-43bb-9861-f38680ed7fa4"
      },
      "execution_count": null,
      "outputs": [
        {
          "output_type": "stream",
          "name": "stdout",
          "text": [
            "\n",
            "⚠️ Models with notable ranking disagreement (Rank_Spread >= 2):\n"
          ]
        },
        {
          "output_type": "display_data",
          "data": {
            "text/plain": [
              "                  F1  ROC_AUC  PRC_AP  Rank_F1  Rank_ROC_AUC  Rank_PRC_AP  \\\n",
              "Model                                                                       \n",
              "GaussianNB    0.7898   0.9521  0.8075        5             3            4   \n",
              "DecisionTree  0.8295   0.8809  0.6871        3             5            5   \n",
              "\n",
              "              Rank_Sum  Rank_Spread  \n",
              "Model                                \n",
              "GaussianNB          12            2  \n",
              "DecisionTree        13            2  "
            ],
            "text/html": [
              "\n",
              "  <div id=\"df-178c6d70-6dc3-4f87-a164-e8bf81c7e73d\" class=\"colab-df-container\">\n",
              "    <div>\n",
              "<style scoped>\n",
              "    .dataframe tbody tr th:only-of-type {\n",
              "        vertical-align: middle;\n",
              "    }\n",
              "\n",
              "    .dataframe tbody tr th {\n",
              "        vertical-align: top;\n",
              "    }\n",
              "\n",
              "    .dataframe thead th {\n",
              "        text-align: right;\n",
              "    }\n",
              "</style>\n",
              "<table border=\"1\" class=\"dataframe\">\n",
              "  <thead>\n",
              "    <tr style=\"text-align: right;\">\n",
              "      <th></th>\n",
              "      <th>F1</th>\n",
              "      <th>ROC_AUC</th>\n",
              "      <th>PRC_AP</th>\n",
              "      <th>Rank_F1</th>\n",
              "      <th>Rank_ROC_AUC</th>\n",
              "      <th>Rank_PRC_AP</th>\n",
              "      <th>Rank_Sum</th>\n",
              "      <th>Rank_Spread</th>\n",
              "    </tr>\n",
              "    <tr>\n",
              "      <th>Model</th>\n",
              "      <th></th>\n",
              "      <th></th>\n",
              "      <th></th>\n",
              "      <th></th>\n",
              "      <th></th>\n",
              "      <th></th>\n",
              "      <th></th>\n",
              "      <th></th>\n",
              "    </tr>\n",
              "  </thead>\n",
              "  <tbody>\n",
              "    <tr>\n",
              "      <th>GaussianNB</th>\n",
              "      <td>0.7898</td>\n",
              "      <td>0.9521</td>\n",
              "      <td>0.8075</td>\n",
              "      <td>5</td>\n",
              "      <td>3</td>\n",
              "      <td>4</td>\n",
              "      <td>12</td>\n",
              "      <td>2</td>\n",
              "    </tr>\n",
              "    <tr>\n",
              "      <th>DecisionTree</th>\n",
              "      <td>0.8295</td>\n",
              "      <td>0.8809</td>\n",
              "      <td>0.6871</td>\n",
              "      <td>3</td>\n",
              "      <td>5</td>\n",
              "      <td>5</td>\n",
              "      <td>13</td>\n",
              "      <td>2</td>\n",
              "    </tr>\n",
              "  </tbody>\n",
              "</table>\n",
              "</div>\n",
              "    <div class=\"colab-df-buttons\">\n",
              "\n",
              "  <div class=\"colab-df-container\">\n",
              "    <button class=\"colab-df-convert\" onclick=\"convertToInteractive('df-178c6d70-6dc3-4f87-a164-e8bf81c7e73d')\"\n",
              "            title=\"Convert this dataframe to an interactive table.\"\n",
              "            style=\"display:none;\">\n",
              "\n",
              "  <svg xmlns=\"http://www.w3.org/2000/svg\" height=\"24px\" viewBox=\"0 -960 960 960\">\n",
              "    <path d=\"M120-120v-720h720v720H120Zm60-500h600v-160H180v160Zm220 220h160v-160H400v160Zm0 220h160v-160H400v160ZM180-400h160v-160H180v160Zm440 0h160v-160H620v160ZM180-180h160v-160H180v160Zm440 0h160v-160H620v160Z\"/>\n",
              "  </svg>\n",
              "    </button>\n",
              "\n",
              "  <style>\n",
              "    .colab-df-container {\n",
              "      display:flex;\n",
              "      gap: 12px;\n",
              "    }\n",
              "\n",
              "    .colab-df-convert {\n",
              "      background-color: #E8F0FE;\n",
              "      border: none;\n",
              "      border-radius: 50%;\n",
              "      cursor: pointer;\n",
              "      display: none;\n",
              "      fill: #1967D2;\n",
              "      height: 32px;\n",
              "      padding: 0 0 0 0;\n",
              "      width: 32px;\n",
              "    }\n",
              "\n",
              "    .colab-df-convert:hover {\n",
              "      background-color: #E2EBFA;\n",
              "      box-shadow: 0px 1px 2px rgba(60, 64, 67, 0.3), 0px 1px 3px 1px rgba(60, 64, 67, 0.15);\n",
              "      fill: #174EA6;\n",
              "    }\n",
              "\n",
              "    .colab-df-buttons div {\n",
              "      margin-bottom: 4px;\n",
              "    }\n",
              "\n",
              "    [theme=dark] .colab-df-convert {\n",
              "      background-color: #3B4455;\n",
              "      fill: #D2E3FC;\n",
              "    }\n",
              "\n",
              "    [theme=dark] .colab-df-convert:hover {\n",
              "      background-color: #434B5C;\n",
              "      box-shadow: 0px 1px 3px 1px rgba(0, 0, 0, 0.15);\n",
              "      filter: drop-shadow(0px 1px 2px rgba(0, 0, 0, 0.3));\n",
              "      fill: #FFFFFF;\n",
              "    }\n",
              "  </style>\n",
              "\n",
              "    <script>\n",
              "      const buttonEl =\n",
              "        document.querySelector('#df-178c6d70-6dc3-4f87-a164-e8bf81c7e73d button.colab-df-convert');\n",
              "      buttonEl.style.display =\n",
              "        google.colab.kernel.accessAllowed ? 'block' : 'none';\n",
              "\n",
              "      async function convertToInteractive(key) {\n",
              "        const element = document.querySelector('#df-178c6d70-6dc3-4f87-a164-e8bf81c7e73d');\n",
              "        const dataTable =\n",
              "          await google.colab.kernel.invokeFunction('convertToInteractive',\n",
              "                                                    [key], {});\n",
              "        if (!dataTable) return;\n",
              "\n",
              "        const docLinkHtml = 'Like what you see? Visit the ' +\n",
              "          '<a target=\"_blank\" href=https://colab.research.google.com/notebooks/data_table.ipynb>data table notebook</a>'\n",
              "          + ' to learn more about interactive tables.';\n",
              "        element.innerHTML = '';\n",
              "        dataTable['output_type'] = 'display_data';\n",
              "        await google.colab.output.renderOutput(dataTable, element);\n",
              "        const docLink = document.createElement('div');\n",
              "        docLink.innerHTML = docLinkHtml;\n",
              "        element.appendChild(docLink);\n",
              "      }\n",
              "    </script>\n",
              "  </div>\n",
              "\n",
              "\n",
              "    <div id=\"df-ca0972d6-eeca-470d-bbfe-35b22150025a\">\n",
              "      <button class=\"colab-df-quickchart\" onclick=\"quickchart('df-ca0972d6-eeca-470d-bbfe-35b22150025a')\"\n",
              "                title=\"Suggest charts\"\n",
              "                style=\"display:none;\">\n",
              "\n",
              "<svg xmlns=\"http://www.w3.org/2000/svg\" height=\"24px\"viewBox=\"0 0 24 24\"\n",
              "     width=\"24px\">\n",
              "    <g>\n",
              "        <path d=\"M19 3H5c-1.1 0-2 .9-2 2v14c0 1.1.9 2 2 2h14c1.1 0 2-.9 2-2V5c0-1.1-.9-2-2-2zM9 17H7v-7h2v7zm4 0h-2V7h2v10zm4 0h-2v-4h2v4z\"/>\n",
              "    </g>\n",
              "</svg>\n",
              "      </button>\n",
              "\n",
              "<style>\n",
              "  .colab-df-quickchart {\n",
              "      --bg-color: #E8F0FE;\n",
              "      --fill-color: #1967D2;\n",
              "      --hover-bg-color: #E2EBFA;\n",
              "      --hover-fill-color: #174EA6;\n",
              "      --disabled-fill-color: #AAA;\n",
              "      --disabled-bg-color: #DDD;\n",
              "  }\n",
              "\n",
              "  [theme=dark] .colab-df-quickchart {\n",
              "      --bg-color: #3B4455;\n",
              "      --fill-color: #D2E3FC;\n",
              "      --hover-bg-color: #434B5C;\n",
              "      --hover-fill-color: #FFFFFF;\n",
              "      --disabled-bg-color: #3B4455;\n",
              "      --disabled-fill-color: #666;\n",
              "  }\n",
              "\n",
              "  .colab-df-quickchart {\n",
              "    background-color: var(--bg-color);\n",
              "    border: none;\n",
              "    border-radius: 50%;\n",
              "    cursor: pointer;\n",
              "    display: none;\n",
              "    fill: var(--fill-color);\n",
              "    height: 32px;\n",
              "    padding: 0;\n",
              "    width: 32px;\n",
              "  }\n",
              "\n",
              "  .colab-df-quickchart:hover {\n",
              "    background-color: var(--hover-bg-color);\n",
              "    box-shadow: 0 1px 2px rgba(60, 64, 67, 0.3), 0 1px 3px 1px rgba(60, 64, 67, 0.15);\n",
              "    fill: var(--button-hover-fill-color);\n",
              "  }\n",
              "\n",
              "  .colab-df-quickchart-complete:disabled,\n",
              "  .colab-df-quickchart-complete:disabled:hover {\n",
              "    background-color: var(--disabled-bg-color);\n",
              "    fill: var(--disabled-fill-color);\n",
              "    box-shadow: none;\n",
              "  }\n",
              "\n",
              "  .colab-df-spinner {\n",
              "    border: 2px solid var(--fill-color);\n",
              "    border-color: transparent;\n",
              "    border-bottom-color: var(--fill-color);\n",
              "    animation:\n",
              "      spin 1s steps(1) infinite;\n",
              "  }\n",
              "\n",
              "  @keyframes spin {\n",
              "    0% {\n",
              "      border-color: transparent;\n",
              "      border-bottom-color: var(--fill-color);\n",
              "      border-left-color: var(--fill-color);\n",
              "    }\n",
              "    20% {\n",
              "      border-color: transparent;\n",
              "      border-left-color: var(--fill-color);\n",
              "      border-top-color: var(--fill-color);\n",
              "    }\n",
              "    30% {\n",
              "      border-color: transparent;\n",
              "      border-left-color: var(--fill-color);\n",
              "      border-top-color: var(--fill-color);\n",
              "      border-right-color: var(--fill-color);\n",
              "    }\n",
              "    40% {\n",
              "      border-color: transparent;\n",
              "      border-right-color: var(--fill-color);\n",
              "      border-top-color: var(--fill-color);\n",
              "    }\n",
              "    60% {\n",
              "      border-color: transparent;\n",
              "      border-right-color: var(--fill-color);\n",
              "    }\n",
              "    80% {\n",
              "      border-color: transparent;\n",
              "      border-right-color: var(--fill-color);\n",
              "      border-bottom-color: var(--fill-color);\n",
              "    }\n",
              "    90% {\n",
              "      border-color: transparent;\n",
              "      border-bottom-color: var(--fill-color);\n",
              "    }\n",
              "  }\n",
              "</style>\n",
              "\n",
              "      <script>\n",
              "        async function quickchart(key) {\n",
              "          const quickchartButtonEl =\n",
              "            document.querySelector('#' + key + ' button');\n",
              "          quickchartButtonEl.disabled = true;  // To prevent multiple clicks.\n",
              "          quickchartButtonEl.classList.add('colab-df-spinner');\n",
              "          try {\n",
              "            const charts = await google.colab.kernel.invokeFunction(\n",
              "                'suggestCharts', [key], {});\n",
              "          } catch (error) {\n",
              "            console.error('Error during call to suggestCharts:', error);\n",
              "          }\n",
              "          quickchartButtonEl.classList.remove('colab-df-spinner');\n",
              "          quickchartButtonEl.classList.add('colab-df-quickchart-complete');\n",
              "        }\n",
              "        (() => {\n",
              "          let quickchartButtonEl =\n",
              "            document.querySelector('#df-ca0972d6-eeca-470d-bbfe-35b22150025a button');\n",
              "          quickchartButtonEl.style.display =\n",
              "            google.colab.kernel.accessAllowed ? 'block' : 'none';\n",
              "        })();\n",
              "      </script>\n",
              "    </div>\n",
              "\n",
              "  <div id=\"id_0ea00c47-3276-46db-b06e-abe6bdf9dca3\">\n",
              "    <style>\n",
              "      .colab-df-generate {\n",
              "        background-color: #E8F0FE;\n",
              "        border: none;\n",
              "        border-radius: 50%;\n",
              "        cursor: pointer;\n",
              "        display: none;\n",
              "        fill: #1967D2;\n",
              "        height: 32px;\n",
              "        padding: 0 0 0 0;\n",
              "        width: 32px;\n",
              "      }\n",
              "\n",
              "      .colab-df-generate:hover {\n",
              "        background-color: #E2EBFA;\n",
              "        box-shadow: 0px 1px 2px rgba(60, 64, 67, 0.3), 0px 1px 3px 1px rgba(60, 64, 67, 0.15);\n",
              "        fill: #174EA6;\n",
              "      }\n",
              "\n",
              "      [theme=dark] .colab-df-generate {\n",
              "        background-color: #3B4455;\n",
              "        fill: #D2E3FC;\n",
              "      }\n",
              "\n",
              "      [theme=dark] .colab-df-generate:hover {\n",
              "        background-color: #434B5C;\n",
              "        box-shadow: 0px 1px 3px 1px rgba(0, 0, 0, 0.15);\n",
              "        filter: drop-shadow(0px 1px 2px rgba(0, 0, 0, 0.3));\n",
              "        fill: #FFFFFF;\n",
              "      }\n",
              "    </style>\n",
              "    <button class=\"colab-df-generate\" onclick=\"generateWithVariable('disagreeing')\"\n",
              "            title=\"Generate code using this dataframe.\"\n",
              "            style=\"display:none;\">\n",
              "\n",
              "  <svg xmlns=\"http://www.w3.org/2000/svg\" height=\"24px\"viewBox=\"0 0 24 24\"\n",
              "       width=\"24px\">\n",
              "    <path d=\"M7,19H8.4L18.45,9,17,7.55,7,17.6ZM5,21V16.75L18.45,3.32a2,2,0,0,1,2.83,0l1.4,1.43a1.91,1.91,0,0,1,.58,1.4,1.91,1.91,0,0,1-.58,1.4L9.25,21ZM18.45,9,17,7.55Zm-12,3A5.31,5.31,0,0,0,4.9,8.1,5.31,5.31,0,0,0,1,6.5,5.31,5.31,0,0,0,4.9,4.9,5.31,5.31,0,0,0,6.5,1,5.31,5.31,0,0,0,8.1,4.9,5.31,5.31,0,0,0,12,6.5,5.46,5.46,0,0,0,6.5,12Z\"/>\n",
              "  </svg>\n",
              "    </button>\n",
              "    <script>\n",
              "      (() => {\n",
              "      const buttonEl =\n",
              "        document.querySelector('#id_0ea00c47-3276-46db-b06e-abe6bdf9dca3 button.colab-df-generate');\n",
              "      buttonEl.style.display =\n",
              "        google.colab.kernel.accessAllowed ? 'block' : 'none';\n",
              "\n",
              "      buttonEl.onclick = () => {\n",
              "        google.colab.notebook.generateWithVariable('disagreeing');\n",
              "      }\n",
              "      })();\n",
              "    </script>\n",
              "  </div>\n",
              "\n",
              "    </div>\n",
              "  </div>\n"
            ],
            "application/vnd.google.colaboratory.intrinsic+json": {
              "type": "dataframe",
              "variable_name": "disagreeing",
              "summary": "{\n  \"name\": \"disagreeing\",\n  \"rows\": 2,\n  \"fields\": [\n    {\n      \"column\": \"Model\",\n      \"properties\": {\n        \"dtype\": \"string\",\n        \"num_unique_values\": 2,\n        \"samples\": [\n          \"DecisionTree\",\n          \"GaussianNB\"\n        ],\n        \"semantic_type\": \"\",\n        \"description\": \"\"\n      }\n    },\n    {\n      \"column\": \"F1\",\n      \"properties\": {\n        \"dtype\": \"number\",\n        \"std\": 0.028072139213105984,\n        \"min\": 0.7898,\n        \"max\": 0.8295,\n        \"num_unique_values\": 2,\n        \"samples\": [\n          0.8295,\n          0.7898\n        ],\n        \"semantic_type\": \"\",\n        \"description\": \"\"\n      }\n    },\n    {\n      \"column\": \"ROC_AUC\",\n      \"properties\": {\n        \"dtype\": \"number\",\n        \"std\": 0.050346002820482134,\n        \"min\": 0.8809,\n        \"max\": 0.9521,\n        \"num_unique_values\": 2,\n        \"samples\": [\n          0.8809,\n          0.9521\n        ],\n        \"semantic_type\": \"\",\n        \"description\": \"\"\n      }\n    },\n    {\n      \"column\": \"PRC_AP\",\n      \"properties\": {\n        \"dtype\": \"number\",\n        \"std\": 0.08513565645486028,\n        \"min\": 0.6871,\n        \"max\": 0.8075,\n        \"num_unique_values\": 2,\n        \"samples\": [\n          0.6871,\n          0.8075\n        ],\n        \"semantic_type\": \"\",\n        \"description\": \"\"\n      }\n    },\n    {\n      \"column\": \"Rank_F1\",\n      \"properties\": {\n        \"dtype\": \"number\",\n        \"std\": 1,\n        \"min\": 3,\n        \"max\": 5,\n        \"num_unique_values\": 2,\n        \"samples\": [\n          3,\n          5\n        ],\n        \"semantic_type\": \"\",\n        \"description\": \"\"\n      }\n    },\n    {\n      \"column\": \"Rank_ROC_AUC\",\n      \"properties\": {\n        \"dtype\": \"number\",\n        \"std\": 1,\n        \"min\": 3,\n        \"max\": 5,\n        \"num_unique_values\": 2,\n        \"samples\": [\n          5,\n          3\n        ],\n        \"semantic_type\": \"\",\n        \"description\": \"\"\n      }\n    },\n    {\n      \"column\": \"Rank_PRC_AP\",\n      \"properties\": {\n        \"dtype\": \"number\",\n        \"std\": 0,\n        \"min\": 4,\n        \"max\": 5,\n        \"num_unique_values\": 2,\n        \"samples\": [\n          5,\n          4\n        ],\n        \"semantic_type\": \"\",\n        \"description\": \"\"\n      }\n    },\n    {\n      \"column\": \"Rank_Sum\",\n      \"properties\": {\n        \"dtype\": \"number\",\n        \"std\": 0,\n        \"min\": 12,\n        \"max\": 13,\n        \"num_unique_values\": 2,\n        \"samples\": [\n          13,\n          12\n        ],\n        \"semantic_type\": \"\",\n        \"description\": \"\"\n      }\n    },\n    {\n      \"column\": \"Rank_Spread\",\n      \"properties\": {\n        \"dtype\": \"number\",\n        \"std\": 0,\n        \"min\": 2,\n        \"max\": 2,\n        \"num_unique_values\": 1,\n        \"samples\": [\n          2\n        ],\n        \"semantic_type\": \"\",\n        \"description\": \"\"\n      }\n    }\n  ]\n}"
            }
          },
          "metadata": {}
        }
      ]
    },
    {
      "cell_type": "code",
      "source": [
        "print(\"Look at the their Rank :\")\n",
        "for model_name in disagreeing.index:\n",
        "    row = disagreeing.loc[model_name]\n",
        "    print(\"────────────────────────────────────────────────────────\")\n",
        "    print(f\"Model: {model_name}\")\n",
        "    print(f\"  F1 = {row['F1']:.4f} (Rank {row['Rank_F1']})\")\n",
        "    print(f\"  ROC_AUC = {row['ROC_AUC']:.4f} (Rank {row['Rank_ROC_AUC']})\")\n",
        "    print(f\"  PRC_AP = {row['PRC_AP']:.4f} (Rank {row['Rank_PRC_AP']})\")\n",
        "    print(f\"  Rank spread = {int(row['Rank_Spread'])} \")"
      ],
      "metadata": {
        "colab": {
          "base_uri": "https://localhost:8080/"
        },
        "id": "V4PZ1jgs1X3n",
        "outputId": "eb119609-227e-485b-c5ee-62f4d638295a"
      },
      "execution_count": null,
      "outputs": [
        {
          "output_type": "stream",
          "name": "stdout",
          "text": [
            "────────────────────────────────────────────────────────\n",
            "Model: GaussianNB\n",
            "  F1 = 0.7898 (Rank 5.0)\n",
            "  ROC_AUC = 0.9521 (Rank 3.0)\n",
            "  PRC_AP = 0.8075 (Rank 4.0)\n",
            "  Rank spread = 2 -> disagreement detected\n",
            "────────────────────────────────────────────────────────\n",
            "Model: DecisionTree\n",
            "  F1 = 0.8295 (Rank 3.0)\n",
            "  ROC_AUC = 0.8809 (Rank 5.0)\n",
            "  PRC_AP = 0.6871 (Rank 5.0)\n",
            "  Rank spread = 2 -> disagreement detected\n"
          ]
        }
      ]
    },
    {
      "cell_type": "markdown",
      "source": [
        "**Trade offs :**\n",
        "- The rankings are mostly consistent at the top and bottom:\n",
        "SVC and KNN consistently perform best, while Dummy(Prior) is the worst across all metrics.\n",
        "- However, middle-ranked models differ slightly between metrics — e.g.,\n",
        "GaussianNB scores higher on PRC-AP than on ROC-AUC.\n",
        "\n",
        "**Explanation :**\n",
        "- ROC-AUC measures overall ranking ability, while PRC-AP focuses on how well the model maintains precision as recall increases.\n",
        "- A model can have high ROC-AUC but lower PRC-AP if it separates classes well overall but produces many false positives when predicting positives, showing poorer calibration or class imbalance effects."
      ],
      "metadata": {
        "id": "3SHumxIQqPav"
      }
    },
    {
      "cell_type": "markdown",
      "source": [
        "## **Final Recommendation : SVC (Support Vector Classifier)**\n",
        "\n",
        "Based on accuracy, F1-Score, ROC-AUC, and PRC-AP analysis, the SVC (Support Vector Classifier) is the best overall model for this classification task.\n",
        "\n",
        "It achieves the highest Macro ROC-AUC (≈ 0.981) and Macro Average Precision (≈ 0.908), showing strong discriminative power and reliable precision across thresholds.\n",
        "\n",
        "**KNN** also performs competitively but slightly below SVC, while all other models (Logistic Regression, GaussianNB, Decision Tree, and Dummy) show weaker balance between precision and recall.\n",
        "\n",
        "Therefore,**SVC** is recommended as the final model because it provides the best balance between precision and recall and demonstrates stable, high performance across all evaluation curves."
      ],
      "metadata": {
        "id": "2ENxtJ0-pR75"
      }
    },
    {
      "cell_type": "markdown",
      "source": [
        "## **Brownie Marks Part :**"
      ],
      "metadata": {
        "id": "dBlOHQHriRig"
      }
    },
    {
      "cell_type": "markdown",
      "source": [
        "**Train & Build the RandomForest Model and finally Stored it in Fitted_Model Dictionary :**"
      ],
      "metadata": {
        "id": "vixFkHDniZD_"
      }
    },
    {
      "cell_type": "code",
      "source": [
        "rf = RandomForestClassifier(n_estimators=200, random_state=42)\n",
        "rf.fit(X_train, y_train)\n",
        "fitted_models[\"RandomForest\"] = rf"
      ],
      "metadata": {
        "id": "EzkO_N2c1c9F"
      },
      "execution_count": null,
      "outputs": []
    },
    {
      "cell_type": "markdown",
      "source": [
        "We encodes categorical **labels into numeric form using LabelEncoder**, then trains an XGBoost classifier with **multi-class log loss** as the evaluation metric.\n",
        "\n",
        "**The trained model is stored in the fitted_models dictionary under the key \"XGBoost\".**"
      ],
      "metadata": {
        "id": "OjZXIKIGjrMA"
      }
    },
    {
      "cell_type": "code",
      "source": [
        "le = LabelEncoder()\n",
        "y_train_encoded = le.fit_transform(y_train)\n",
        "y_test_encoded = le.transform(y_test)  # if you have test labels\n",
        "\n",
        "xgb_model = xgb.XGBClassifier(use_label_encoder=True, eval_metric=\"mlogloss\", random_state=42)\n",
        "xgb_model.fit(X_train, y_train_encoded)\n",
        "fitted_models[\"XGBoost\"] = xgb_model\n"
      ],
      "metadata": {
        "id": "Ur9CIx5r2jNU"
      },
      "execution_count": null,
      "outputs": []
    },
    {
      "cell_type": "markdown",
      "source": [
        "**Also, build A dummy classifier with uniform random predictions for Comparison :**"
      ],
      "metadata": {
        "id": "o7GO13yDis_q"
      }
    },
    {
      "cell_type": "code",
      "source": [
        "dummy_rand = DummyClassifier(strategy=\"uniform\", random_state=42)\n",
        "dummy_rand.fit(X_train, y_train)\n",
        "fitted_models[\"Dummy(Random)\"] = dummy_rand"
      ],
      "metadata": {
        "id": "SL4eE2S23ZLZ"
      },
      "execution_count": null,
      "outputs": []
    },
    {
      "cell_type": "markdown",
      "source": [
        "Earlier ,we build **Dummy Classifier** with prior Strategy and Now we build using **Uniform Random prediction which have AUC<0.5.**\n",
        "\n",
        "---"
      ],
      "metadata": {
        "id": "CvLDzkX8kulC"
      }
    },
    {
      "cell_type": "markdown",
      "source": [
        "**Now we evaluate our Models on Test Dataset and Calculate Required Metrics : F1_score , Area Under Curve (AUC) , Average Prediction(AP) :**"
      ],
      "metadata": {
        "id": "b6XyHqynlbh5"
      }
    },
    {
      "cell_type": "code",
      "source": [
        "from sklearn.preprocessing import label_binarize\n",
        "from sklearn.metrics import (\n",
        "    accuracy_score, f1_score, roc_curve, auc,\n",
        "    precision_recall_curve, average_precision_score\n",
        ")\n",
        "import numpy as np\n",
        "\n",
        "# --- Get unique class labels and binarize for multiclass ROC/PRC ---\n",
        "classes = np.unique(y_test)\n",
        "y_test_bin = label_binarize(y_test, classes=classes)\n",
        "\n",
        "# Test these 3 Models :\n",
        "\n",
        "# Initialize dictionaries to store curves for plotting\n",
        "roc_curves_to_plot = {}\n",
        "prc_curves_to_plot = {}\n",
        "\n",
        "\n",
        "for name, model in list(fitted_models.items())[-3:]:\n",
        "\n",
        "\n",
        "    # 1. Predict class labels\n",
        "\n",
        "    y_pred = model.predict(X_test)\n",
        "\n",
        "\n",
        "    # 2. Evaluate baseline metrics\n",
        "    acc = accuracy_score(y_test, y_pred)\n",
        "    wf1 = f1_score(y_test, y_pred, average=\"weighted\")\n",
        "    baseline_results[name] = {\"accuracy\": acc, \"weighted_f1\": wf1}\n",
        "\n",
        "\n",
        "    # 3. Get probability scores (for ROC/PRC curves)\n",
        "    if hasattr(model, \"predict_proba\"):\n",
        "        y_score = model.predict_proba(X_test)\n",
        "    else:\n",
        "        y_score = model.decision_function(X_test)\n",
        "\n",
        "\n",
        "       # ---- ROC-AUC (One-vs-Rest Macro Averaging) ----\n",
        "\n",
        "    fpr, tpr, roc_auc_values = {}, {}, {}\n",
        "\n",
        "    # Compute ROC curve and AUC for each class\n",
        "    for i in range(len(classes)):\n",
        "        fpr[i], tpr[i], _ = roc_curve(y_test_bin[:, i], y_score[:, i])\n",
        "        roc_auc_values[i] = auc(fpr[i], tpr[i])\n",
        "\n",
        "    # Interpolate and average across all classes to compute Macro-AUC\n",
        "    all_fpr = np.unique(np.concatenate([fpr[i] for i in range(len(classes))]))\n",
        "    mean_tpr = np.zeros_like(all_fpr)\n",
        "\n",
        "    for i in range(len(classes)):\n",
        "        mean_tpr += np.interp(all_fpr, fpr[i], tpr[i])\n",
        "    mean_tpr /= len(classes)\n",
        "\n",
        "    macro_auc = auc(all_fpr, mean_tpr)\n",
        "    roc_results[name] = {\"macro_auc\": macro_auc}\n",
        "    roc_curves_to_plot[name] = (all_fpr, mean_tpr, macro_auc) # Store for plotting\n",
        "\n",
        "\n",
        "    # ---- Precision-Recall (PRC) Macro Average ----\n",
        "    precision, recall, avg_precision = {}, {}, {}\n",
        "\n",
        "    for i in range(len(classes)):\n",
        "        precision[i], recall[i], _ = precision_recall_curve(y_test_bin[:, i], y_score[:, i])\n",
        "        avg_precision[i] = average_precision_score(y_test_bin[:, i], y_score[:, i])\n",
        "\n",
        "    # Interpolate and average across all classes to compute Macro-AP\n",
        "    all_recall = np.unique(np.concatenate([recall[i] for i in range(len(classes))]))\n",
        "    mean_precision = np.zeros_like(all_recall)\n",
        "\n",
        "    for i in range(len(classes)):\n",
        "        mean_precision += np.interp(all_recall, recall[i][::-1], precision[i][::-1])\n",
        "    mean_precision /= len(classes)\n",
        "\n",
        "    macro_ap = np.mean(list(avg_precision.values()))\n",
        "    prc_results[name] = {\"macro_ap\": macro_ap}\n",
        "    prc_curves_to_plot[name] = (all_recall, mean_precision, macro_ap) # Store for plotting\n",
        "\n",
        "\n",
        "    # 4. Print results for each model\n",
        "    print(f\"\\nModel: {name}\")\n",
        "    print(f\"Accuracy       : {acc:.4f}\")\n",
        "    print(f\"Weighted F1     : {wf1:.4f}\")\n",
        "    print(f\"Macro ROC-AUC   : {macro_auc:.4f}\")\n",
        "    print(f\"Macro Avg. Precision (AP): {macro_ap:.4f}\")"
      ],
      "metadata": {
        "colab": {
          "base_uri": "https://localhost:8080/"
        },
        "id": "FkZ8Juur3nuz",
        "outputId": "d286bad3-4c29-451d-f4d6-64a4300b5832"
      },
      "execution_count": null,
      "outputs": [
        {
          "output_type": "stream",
          "name": "stdout",
          "text": [
            "\n",
            "Model: RandomForest\n",
            "Accuracy       : 0.8971\n",
            "Weighted F1     : 0.8935\n",
            "Macro ROC-AUC   : 0.9853\n",
            "Macro Avg. Precision (AP): 0.9344\n",
            "\n",
            "Model: XGBoost\n",
            "Accuracy       : 0.0083\n",
            "Weighted F1     : 0.0093\n",
            "Macro ROC-AUC   : 0.9871\n",
            "Macro Avg. Precision (AP): 0.9401\n",
            "\n",
            "Model: Dummy(Random)\n",
            "Accuracy       : 0.1510\n",
            "Weighted F1     : 0.1564\n",
            "Macro ROC-AUC   : 0.5000\n",
            "Macro Avg. Precision (AP): 0.1667\n"
          ]
        }
      ]
    },
    {
      "cell_type": "markdown",
      "source": [
        "We plotted ROC and PRC curves for these Models :"
      ],
      "metadata": {
        "id": "FsWO4hnby6_y"
      }
    },
    {
      "cell_type": "code",
      "source": [
        "# Plot all ROC curves together\n",
        "\n",
        "plt.figure(figsize=(8, 6))\n",
        "for name, (fpr, tpr, auc_value) in roc_curves_to_plot.items():\n",
        "    plt.plot(fpr, tpr, lw=2, label=f\"{name} (AUC={auc_value:.3f})\")\n",
        "\n",
        "plt.plot([0, 1], [0, 1], \"k--\", lw=1)\n",
        "plt.xlabel(\"False Positive Rate\")\n",
        "plt.ylabel(\"True Positive Rate\")\n",
        "plt.title(\"Macro-Averaged ROC Curves\")\n",
        "plt.legend()\n",
        "plt.grid(True)\n",
        "plt.show()\n",
        "\n",
        "# Plot all PRC curves together\n",
        "\n",
        "plt.figure(figsize=(8, 6))\n",
        "for name, (recall, precision, ap_value) in prc_curves_to_plot.items():\n",
        "    plt.plot(recall, precision, lw=2, label=f\"{name} (AP={ap_value:.3f})\")\n",
        "\n",
        "plt.xlabel(\"Recall\")\n",
        "plt.ylabel(\"Precision\")\n",
        "plt.title(\"Macro-Averaged Precision–Recall Curves\")\n",
        "plt.legend()\n",
        "plt.grid(True)\n",
        "plt.show()"
      ],
      "metadata": {
        "colab": {
          "base_uri": "https://localhost:8080/",
          "height": 1000
        },
        "id": "rgPma7eHw-D8",
        "outputId": "91842ecd-68e7-4954-bb2d-8240e6e6704d"
      },
      "execution_count": null,
      "outputs": [
        {
          "output_type": "display_data",
          "data": {
            "text/plain": [
              "<Figure size 800x600 with 1 Axes>"
            ],
            "image/png": "[encoded data removed]"
          },
          "metadata": {}
        },
        {
          "output_type": "display_data",
          "data": {
            "text/plain": [
              "<Figure size 800x600 with 1 Axes>"
            ],
            "image/png": "[encoded data removed]"
          },
          "metadata": {}
        }
      ]
    },
    {
      "cell_type": "markdown",
      "source": [
        "Both PRC and ROC curve of Dummy(Random) Model are straight line with -ve slope .\n",
        "\n",
        " while ROC Curves of Random Forest and Xgboost are non-linear, increasing & Nearly Overlaps in both cases .\n",
        "\n",
        " In the Case of PRC cuve , Both for Random Forest and Xgboost : non-linear, decreasing"
      ],
      "metadata": {
        "id": "i0EGgblMzCAs"
      }
    },
    {
      "cell_type": "markdown",
      "source": [
        "**Now , Ranking these 3 models according to Metrics :**"
      ],
      "metadata": {
        "id": "qAb9QasRmD9S"
      }
    },
    {
      "cell_type": "code",
      "source": [
        "new_models = [\"RandomForest\", \"XGBoost\", \"Dummy(Random)\"]\n",
        "\n",
        "# Combine into a summary dataframe\n",
        "summary = []\n",
        "for name in new_models:\n",
        "    f1  = baseline_results[name][\"weighted_f1\"]\n",
        "    auc_score = roc_results[name][\"macro_auc\"]\n",
        "    ap  = prc_results[name][\"macro_ap\"]\n",
        "    summary.append({\"Model\": name, \"F1\": f1, \"ROC_AUC\": auc_score, \"PRC_AP\": ap})\n",
        "\n",
        "summary_df = pd.DataFrame(summary).set_index(\"Model\").round(4)\n",
        "\n",
        "# Compute ranks\n",
        "summary_df[\"Rank_F1\"] = summary_df[\"F1\"].rank(ascending=False).astype(int)\n",
        "summary_df[\"Rank_AUC\"] = summary_df[\"ROC_AUC\"].rank(ascending=False).astype(int)\n",
        "summary_df[\"Rank_AP\"] = summary_df[\"PRC_AP\"].rank(ascending=False).astype(int)\n",
        "summary_df[\"Rank_Sum\"] = summary_df[[\"Rank_F1\",\"Rank_AUC\",\"Rank_AP\"]].sum(axis=1)\n",
        "\n",
        "# Sort by combined rank\n",
        "summary_df = summary_df.sort_values(\"Rank_Sum\")\n",
        "\n",
        "# Display the summary\n",
        "display(summary_df)\n"
      ],
      "metadata": {
        "colab": {
          "base_uri": "https://localhost:8080/",
          "height": 170
        },
        "id": "_ZeebWUo4cIy",
        "outputId": "dbcde61b-f4f4-4346-ed88-4d96142ff39d"
      },
      "execution_count": null,
      "outputs": [
        {
          "output_type": "display_data",
          "data": {
            "text/plain": [
              "                   F1  ROC_AUC  PRC_AP  Rank_F1  Rank_AUC  Rank_AP  Rank_Sum\n",
              "Model                                                                       \n",
              "RandomForest   0.8935   0.9853  0.9344        1         2        2         5\n",
              "XGBoost        0.0093   0.9871  0.9401        3         1        1         5\n",
              "Dummy(Random)  0.1564   0.5000  0.1667        2         3        3         8"
            ],
            "text/html": [
              "\n",
              "  <div id=\"df-f226d61f-f1df-43b3-b60c-201c32615e52\" class=\"colab-df-container\">\n",
              "    <div>\n",
              "<style scoped>\n",
              "    .dataframe tbody tr th:only-of-type {\n",
              "        vertical-align: middle;\n",
              "    }\n",
              "\n",
              "    .dataframe tbody tr th {\n",
              "        vertical-align: top;\n",
              "    }\n",
              "\n",
              "    .dataframe thead th {\n",
              "        text-align: right;\n",
              "    }\n",
              "</style>\n",
              "<table border=\"1\" class=\"dataframe\">\n",
              "  <thead>\n",
              "    <tr style=\"text-align: right;\">\n",
              "      <th></th>\n",
              "      <th>F1</th>\n",
              "      <th>ROC_AUC</th>\n",
              "      <th>PRC_AP</th>\n",
              "      <th>Rank_F1</th>\n",
              "      <th>Rank_AUC</th>\n",
              "      <th>Rank_AP</th>\n",
              "      <th>Rank_Sum</th>\n",
              "    </tr>\n",
              "    <tr>\n",
              "      <th>Model</th>\n",
              "      <th></th>\n",
              "      <th></th>\n",
              "      <th></th>\n",
              "      <th></th>\n",
              "      <th></th>\n",
              "      <th></th>\n",
              "      <th></th>\n",
              "    </tr>\n",
              "  </thead>\n",
              "  <tbody>\n",
              "    <tr>\n",
              "      <th>RandomForest</th>\n",
              "      <td>0.8935</td>\n",
              "      <td>0.9853</td>\n",
              "      <td>0.9344</td>\n",
              "      <td>1</td>\n",
              "      <td>2</td>\n",
              "      <td>2</td>\n",
              "      <td>5</td>\n",
              "    </tr>\n",
              "    <tr>\n",
              "      <th>XGBoost</th>\n",
              "      <td>0.0093</td>\n",
              "      <td>0.9871</td>\n",
              "      <td>0.9401</td>\n",
              "      <td>3</td>\n",
              "      <td>1</td>\n",
              "      <td>1</td>\n",
              "      <td>5</td>\n",
              "    </tr>\n",
              "    <tr>\n",
              "      <th>Dummy(Random)</th>\n",
              "      <td>0.1564</td>\n",
              "      <td>0.5000</td>\n",
              "      <td>0.1667</td>\n",
              "      <td>2</td>\n",
              "      <td>3</td>\n",
              "      <td>3</td>\n",
              "      <td>8</td>\n",
              "    </tr>\n",
              "  </tbody>\n",
              "</table>\n",
              "</div>\n",
              "    <div class=\"colab-df-buttons\">\n",
              "\n",
              "  <div class=\"colab-df-container\">\n",
              "    <button class=\"colab-df-convert\" onclick=\"convertToInteractive('df-f226d61f-f1df-43b3-b60c-201c32615e52')\"\n",
              "            title=\"Convert this dataframe to an interactive table.\"\n",
              "            style=\"display:none;\">\n",
              "\n",
              "  <svg xmlns=\"http://www.w3.org/2000/svg\" height=\"24px\" viewBox=\"0 -960 960 960\">\n",
              "    <path d=\"M120-120v-720h720v720H120Zm60-500h600v-160H180v160Zm220 220h160v-160H400v160Zm0 220h160v-160H400v160ZM180-400h160v-160H180v160Zm440 0h160v-160H620v160ZM180-180h160v-160H180v160Zm440 0h160v-160H620v160Z\"/>\n",
              "  </svg>\n",
              "    </button>\n",
              "\n",
              "  <style>\n",
              "    .colab-df-container {\n",
              "      display:flex;\n",
              "      gap: 12px;\n",
              "    }\n",
              "\n",
              "    .colab-df-convert {\n",
              "      background-color: #E8F0FE;\n",
              "      border: none;\n",
              "      border-radius: 50%;\n",
              "      cursor: pointer;\n",
              "      display: none;\n",
              "      fill: #1967D2;\n",
              "      height: 32px;\n",
              "      padding: 0 0 0 0;\n",
              "      width: 32px;\n",
              "    }\n",
              "\n",
              "    .colab-df-convert:hover {\n",
              "      background-color: #E2EBFA;\n",
              "      box-shadow: 0px 1px 2px rgba(60, 64, 67, 0.3), 0px 1px 3px 1px rgba(60, 64, 67, 0.15);\n",
              "      fill: #174EA6;\n",
              "    }\n",
              "\n",
              "    .colab-df-buttons div {\n",
              "      margin-bottom: 4px;\n",
              "    }\n",
              "\n",
              "    [theme=dark] .colab-df-convert {\n",
              "      background-color: #3B4455;\n",
              "      fill: #D2E3FC;\n",
              "    }\n",
              "\n",
              "    [theme=dark] .colab-df-convert:hover {\n",
              "      background-color: #434B5C;\n",
              "      box-shadow: 0px 1px 3px 1px rgba(0, 0, 0, 0.15);\n",
              "      filter: drop-shadow(0px 1px 2px rgba(0, 0, 0, 0.3));\n",
              "      fill: #FFFFFF;\n",
              "    }\n",
              "  </style>\n",
              "\n",
              "    <script>\n",
              "      const buttonEl =\n",
              "        document.querySelector('#df-f226d61f-f1df-43b3-b60c-201c32615e52 button.colab-df-convert');\n",
              "      buttonEl.style.display =\n",
              "        google.colab.kernel.accessAllowed ? 'block' : 'none';\n",
              "\n",
              "      async function convertToInteractive(key) {\n",
              "        const element = document.querySelector('#df-f226d61f-f1df-43b3-b60c-201c32615e52');\n",
              "        const dataTable =\n",
              "          await google.colab.kernel.invokeFunction('convertToInteractive',\n",
              "                                                    [key], {});\n",
              "        if (!dataTable) return;\n",
              "\n",
              "        const docLinkHtml = 'Like what you see? Visit the ' +\n",
              "          '<a target=\"_blank\" href=https://colab.research.google.com/notebooks/data_table.ipynb>data table notebook</a>'\n",
              "          + ' to learn more about interactive tables.';\n",
              "        element.innerHTML = '';\n",
              "        dataTable['output_type'] = 'display_data';\n",
              "        await google.colab.output.renderOutput(dataTable, element);\n",
              "        const docLink = document.createElement('div');\n",
              "        docLink.innerHTML = docLinkHtml;\n",
              "        element.appendChild(docLink);\n",
              "      }\n",
              "    </script>\n",
              "  </div>\n",
              "\n",
              "\n",
              "    <div id=\"df-a8224111-6167-4675-9703-61930cb9a134\">\n",
              "      <button class=\"colab-df-quickchart\" onclick=\"quickchart('df-a8224111-6167-4675-9703-61930cb9a134')\"\n",
              "                title=\"Suggest charts\"\n",
              "                style=\"display:none;\">\n",
              "\n",
              "<svg xmlns=\"http://www.w3.org/2000/svg\" height=\"24px\"viewBox=\"0 0 24 24\"\n",
              "     width=\"24px\">\n",
              "    <g>\n",
              "        <path d=\"M19 3H5c-1.1 0-2 .9-2 2v14c0 1.1.9 2 2 2h14c1.1 0 2-.9 2-2V5c0-1.1-.9-2-2-2zM9 17H7v-7h2v7zm4 0h-2V7h2v10zm4 0h-2v-4h2v4z\"/>\n",
              "    </g>\n",
              "</svg>\n",
              "      </button>\n",
              "\n",
              "<style>\n",
              "  .colab-df-quickchart {\n",
              "      --bg-color: #E8F0FE;\n",
              "      --fill-color: #1967D2;\n",
              "      --hover-bg-color: #E2EBFA;\n",
              "      --hover-fill-color: #174EA6;\n",
              "      --disabled-fill-color: #AAA;\n",
              "      --disabled-bg-color: #DDD;\n",
              "  }\n",
              "\n",
              "  [theme=dark] .colab-df-quickchart {\n",
              "      --bg-color: #3B4455;\n",
              "      --fill-color: #D2E3FC;\n",
              "      --hover-bg-color: #434B5C;\n",
              "      --hover-fill-color: #FFFFFF;\n",
              "      --disabled-bg-color: #3B4455;\n",
              "      --disabled-fill-color: #666;\n",
              "  }\n",
              "\n",
              "  .colab-df-quickchart {\n",
              "    background-color: var(--bg-color);\n",
              "    border: none;\n",
              "    border-radius: 50%;\n",
              "    cursor: pointer;\n",
              "    display: none;\n",
              "    fill: var(--fill-color);\n",
              "    height: 32px;\n",
              "    padding: 0;\n",
              "    width: 32px;\n",
              "  }\n",
              "\n",
              "  .colab-df-quickchart:hover {\n",
              "    background-color: var(--hover-bg-color);\n",
              "    box-shadow: 0 1px 2px rgba(60, 64, 67, 0.3), 0 1px 3px 1px rgba(60, 64, 67, 0.15);\n",
              "    fill: var(--button-hover-fill-color);\n",
              "  }\n",
              "\n",
              "  .colab-df-quickchart-complete:disabled,\n",
              "  .colab-df-quickchart-complete:disabled:hover {\n",
              "    background-color: var(--disabled-bg-color);\n",
              "    fill: var(--disabled-fill-color);\n",
              "    box-shadow: none;\n",
              "  }\n",
              "\n",
              "  .colab-df-spinner {\n",
              "    border: 2px solid var(--fill-color);\n",
              "    border-color: transparent;\n",
              "    border-bottom-color: var(--fill-color);\n",
              "    animation:\n",
              "      spin 1s steps(1) infinite;\n",
              "  }\n",
              "\n",
              "  @keyframes spin {\n",
              "    0% {\n",
              "      border-color: transparent;\n",
              "      border-bottom-color: var(--fill-color);\n",
              "      border-left-color: var(--fill-color);\n",
              "    }\n",
              "    20% {\n",
              "      border-color: transparent;\n",
              "      border-left-color: var(--fill-color);\n",
              "      border-top-color: var(--fill-color);\n",
              "    }\n",
              "    30% {\n",
              "      border-color: transparent;\n",
              "      border-left-color: var(--fill-color);\n",
              "      border-top-color: var(--fill-color);\n",
              "      border-right-color: var(--fill-color);\n",
              "    }\n",
              "    40% {\n",
              "      border-color: transparent;\n",
              "      border-right-color: var(--fill-color);\n",
              "      border-top-color: var(--fill-color);\n",
              "    }\n",
              "    60% {\n",
              "      border-color: transparent;\n",
              "      border-right-color: var(--fill-color);\n",
              "    }\n",
              "    80% {\n",
              "      border-color: transparent;\n",
              "      border-right-color: var(--fill-color);\n",
              "      border-bottom-color: var(--fill-color);\n",
              "    }\n",
              "    90% {\n",
              "      border-color: transparent;\n",
              "      border-bottom-color: var(--fill-color);\n",
              "    }\n",
              "  }\n",
              "</style>\n",
              "\n",
              "      <script>\n",
              "        async function quickchart(key) {\n",
              "          const quickchartButtonEl =\n",
              "            document.querySelector('#' + key + ' button');\n",
              "          quickchartButtonEl.disabled = true;  // To prevent multiple clicks.\n",
              "          quickchartButtonEl.classList.add('colab-df-spinner');\n",
              "          try {\n",
              "            const charts = await google.colab.kernel.invokeFunction(\n",
              "                'suggestCharts', [key], {});\n",
              "          } catch (error) {\n",
              "            console.error('Error during call to suggestCharts:', error);\n",
              "          }\n",
              "          quickchartButtonEl.classList.remove('colab-df-spinner');\n",
              "          quickchartButtonEl.classList.add('colab-df-quickchart-complete');\n",
              "        }\n",
              "        (() => {\n",
              "          let quickchartButtonEl =\n",
              "            document.querySelector('#df-a8224111-6167-4675-9703-61930cb9a134 button');\n",
              "          quickchartButtonEl.style.display =\n",
              "            google.colab.kernel.accessAllowed ? 'block' : 'none';\n",
              "        })();\n",
              "      </script>\n",
              "    </div>\n",
              "\n",
              "  <div id=\"id_36c8f04b-d64e-4a2d-b007-3a6fd1e1c6b9\">\n",
              "    <style>\n",
              "      .colab-df-generate {\n",
              "        background-color: #E8F0FE;\n",
              "        border: none;\n",
              "        border-radius: 50%;\n",
              "        cursor: pointer;\n",
              "        display: none;\n",
              "        fill: #1967D2;\n",
              "        height: 32px;\n",
              "        padding: 0 0 0 0;\n",
              "        width: 32px;\n",
              "      }\n",
              "\n",
              "      .colab-df-generate:hover {\n",
              "        background-color: #E2EBFA;\n",
              "        box-shadow: 0px 1px 2px rgba(60, 64, 67, 0.3), 0px 1px 3px 1px rgba(60, 64, 67, 0.15);\n",
              "        fill: #174EA6;\n",
              "      }\n",
              "\n",
              "      [theme=dark] .colab-df-generate {\n",
              "        background-color: #3B4455;\n",
              "        fill: #D2E3FC;\n",
              "      }\n",
              "\n",
              "      [theme=dark] .colab-df-generate:hover {\n",
              "        background-color: #434B5C;\n",
              "        box-shadow: 0px 1px 3px 1px rgba(0, 0, 0, 0.15);\n",
              "        filter: drop-shadow(0px 1px 2px rgba(0, 0, 0, 0.3));\n",
              "        fill: #FFFFFF;\n",
              "      }\n",
              "    </style>\n",
              "    <button class=\"colab-df-generate\" onclick=\"generateWithVariable('summary_df')\"\n",
              "            title=\"Generate code using this dataframe.\"\n",
              "            style=\"display:none;\">\n",
              "\n",
              "  <svg xmlns=\"http://www.w3.org/2000/svg\" height=\"24px\"viewBox=\"0 0 24 24\"\n",
              "       width=\"24px\">\n",
              "    <path d=\"M7,19H8.4L18.45,9,17,7.55,7,17.6ZM5,21V16.75L18.45,3.32a2,2,0,0,1,2.83,0l1.4,1.43a1.91,1.91,0,0,1,.58,1.4,1.91,1.91,0,0,1-.58,1.4L9.25,21ZM18.45,9,17,7.55Zm-12,3A5.31,5.31,0,0,0,4.9,8.1,5.31,5.31,0,0,0,1,6.5,5.31,5.31,0,0,0,4.9,4.9,5.31,5.31,0,0,0,6.5,1,5.31,5.31,0,0,0,8.1,4.9,5.31,5.31,0,0,0,12,6.5,5.46,5.46,0,0,0,6.5,12Z\"/>\n",
              "  </svg>\n",
              "    </button>\n",
              "    <script>\n",
              "      (() => {\n",
              "      const buttonEl =\n",
              "        document.querySelector('#id_36c8f04b-d64e-4a2d-b007-3a6fd1e1c6b9 button.colab-df-generate');\n",
              "      buttonEl.style.display =\n",
              "        google.colab.kernel.accessAllowed ? 'block' : 'none';\n",
              "\n",
              "      buttonEl.onclick = () => {\n",
              "        google.colab.notebook.generateWithVariable('summary_df');\n",
              "      }\n",
              "      })();\n",
              "    </script>\n",
              "  </div>\n",
              "\n",
              "    </div>\n",
              "  </div>\n"
            ],
            "application/vnd.google.colaboratory.intrinsic+json": {
              "type": "dataframe",
              "variable_name": "summary_df",
              "summary": "{\n  \"name\": \"summary_df\",\n  \"rows\": 3,\n  \"fields\": [\n    {\n      \"column\": \"Model\",\n      \"properties\": {\n        \"dtype\": \"string\",\n        \"num_unique_values\": 3,\n        \"samples\": [\n          \"RandomForest\",\n          \"XGBoost\",\n          \"Dummy(Random)\"\n        ],\n        \"semantic_type\": \"\",\n        \"description\": \"\"\n      }\n    },\n    {\n      \"column\": \"F1\",\n      \"properties\": {\n        \"dtype\": \"number\",\n        \"std\": 0.47377288159342057,\n        \"min\": 0.0093,\n        \"max\": 0.8935,\n        \"num_unique_values\": 3,\n        \"samples\": [\n          0.8935,\n          0.0093,\n          0.1564\n        ],\n        \"semantic_type\": \"\",\n        \"description\": \"\"\n      }\n    },\n    {\n      \"column\": \"ROC_AUC\",\n      \"properties\": {\n        \"dtype\": \"number\",\n        \"std\": 0.2807091436582238,\n        \"min\": 0.5,\n        \"max\": 0.9871,\n        \"num_unique_values\": 3,\n        \"samples\": [\n          0.9853,\n          0.9871,\n          0.5\n        ],\n        \"semantic_type\": \"\",\n        \"description\": \"\"\n      }\n    },\n    {\n      \"column\": \"PRC_AP\",\n      \"properties\": {\n        \"dtype\": \"number\",\n        \"std\": 0.44488637875304754,\n        \"min\": 0.1667,\n        \"max\": 0.9401,\n        \"num_unique_values\": 3,\n        \"samples\": [\n          0.9344,\n          0.9401,\n          0.1667\n        ],\n        \"semantic_type\": \"\",\n        \"description\": \"\"\n      }\n    },\n    {\n      \"column\": \"Rank_F1\",\n      \"properties\": {\n        \"dtype\": \"number\",\n        \"std\": 1,\n        \"min\": 1,\n        \"max\": 3,\n        \"num_unique_values\": 3,\n        \"samples\": [\n          1,\n          3,\n          2\n        ],\n        \"semantic_type\": \"\",\n        \"description\": \"\"\n      }\n    },\n    {\n      \"column\": \"Rank_AUC\",\n      \"properties\": {\n        \"dtype\": \"number\",\n        \"std\": 1,\n        \"min\": 1,\n        \"max\": 3,\n        \"num_unique_values\": 3,\n        \"samples\": [\n          2,\n          1,\n          3\n        ],\n        \"semantic_type\": \"\",\n        \"description\": \"\"\n      }\n    },\n    {\n      \"column\": \"Rank_AP\",\n      \"properties\": {\n        \"dtype\": \"number\",\n        \"std\": 1,\n        \"min\": 1,\n        \"max\": 3,\n        \"num_unique_values\": 3,\n        \"samples\": [\n          2,\n          1,\n          3\n        ],\n        \"semantic_type\": \"\",\n        \"description\": \"\"\n      }\n    },\n    {\n      \"column\": \"Rank_Sum\",\n      \"properties\": {\n        \"dtype\": \"number\",\n        \"std\": 1,\n        \"min\": 5,\n        \"max\": 8,\n        \"num_unique_values\": 2,\n        \"samples\": [\n          8,\n          5\n        ],\n        \"semantic_type\": \"\",\n        \"description\": \"\"\n      }\n    }\n  ]\n}"
            }
          },
          "metadata": {}
        }
      ]
    },
    {
      "cell_type": "markdown",
      "source": [
        "- **Clearly as we can see , XG Boost Model gives slightly better Area under Curve (AUC) and Average Prediction (AP) than Random Forest Model .**"
      ],
      "metadata": {
        "id": "khO1v29EpsLg"
      }
    }
  ]
}